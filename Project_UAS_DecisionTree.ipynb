{
 "cells": [
  {
   "cell_type": "markdown",
   "id": "7a01c2e8",
   "metadata": {},
   "source": [
    "# Decision Tree (Regression)"
   ]
  },
  {
   "cell_type": "markdown",
   "id": "c23c5654",
   "metadata": {},
   "source": [
    "Import pakages yang diperlukan"
   ]
  },
  {
   "cell_type": "code",
   "execution_count": 20,
   "id": "f6e451a9",
   "metadata": {},
   "outputs": [],
   "source": [
    "# import package\n",
    "import pandas as pd\n",
    "import numpy as np"
   ]
  },
  {
   "cell_type": "markdown",
   "id": "a463a0d4",
   "metadata": {},
   "source": [
    "Membaca data"
   ]
  },
  {
   "cell_type": "code",
   "execution_count": 21,
   "id": "d4aaa0ce",
   "metadata": {},
   "outputs": [
    {
     "data": {
      "text/html": [
       "<div>\n",
       "<style scoped>\n",
       "    .dataframe tbody tr th:only-of-type {\n",
       "        vertical-align: middle;\n",
       "    }\n",
       "\n",
       "    .dataframe tbody tr th {\n",
       "        vertical-align: top;\n",
       "    }\n",
       "\n",
       "    .dataframe thead th {\n",
       "        text-align: right;\n",
       "    }\n",
       "</style>\n",
       "<table border=\"1\" class=\"dataframe\">\n",
       "  <thead>\n",
       "    <tr style=\"text-align: right;\">\n",
       "      <th></th>\n",
       "      <th>Provinsi</th>\n",
       "      <th>Tahun</th>\n",
       "      <th>Produksi</th>\n",
       "      <th>Luas Panen</th>\n",
       "      <th>Curah hujan</th>\n",
       "      <th>Kelembapan</th>\n",
       "      <th>Suhu rata-rata</th>\n",
       "    </tr>\n",
       "  </thead>\n",
       "  <tbody>\n",
       "    <tr>\n",
       "      <th>0</th>\n",
       "      <td>Aceh</td>\n",
       "      <td>1993</td>\n",
       "      <td>1329536.0</td>\n",
       "      <td>323589.0</td>\n",
       "      <td>1627.0</td>\n",
       "      <td>82.00</td>\n",
       "      <td>26.06</td>\n",
       "    </tr>\n",
       "    <tr>\n",
       "      <th>1</th>\n",
       "      <td>Aceh</td>\n",
       "      <td>1994</td>\n",
       "      <td>1299699.0</td>\n",
       "      <td>329041.0</td>\n",
       "      <td>1521.0</td>\n",
       "      <td>82.12</td>\n",
       "      <td>26.92</td>\n",
       "    </tr>\n",
       "    <tr>\n",
       "      <th>2</th>\n",
       "      <td>Aceh</td>\n",
       "      <td>1995</td>\n",
       "      <td>1382905.0</td>\n",
       "      <td>339253.0</td>\n",
       "      <td>1476.0</td>\n",
       "      <td>82.72</td>\n",
       "      <td>26.27</td>\n",
       "    </tr>\n",
       "    <tr>\n",
       "      <th>3</th>\n",
       "      <td>Aceh</td>\n",
       "      <td>1996</td>\n",
       "      <td>1419128.0</td>\n",
       "      <td>348223.0</td>\n",
       "      <td>1557.0</td>\n",
       "      <td>83.00</td>\n",
       "      <td>26.08</td>\n",
       "    </tr>\n",
       "    <tr>\n",
       "      <th>4</th>\n",
       "      <td>Aceh</td>\n",
       "      <td>1997</td>\n",
       "      <td>1368074.0</td>\n",
       "      <td>337561.0</td>\n",
       "      <td>1339.0</td>\n",
       "      <td>82.46</td>\n",
       "      <td>26.31</td>\n",
       "    </tr>\n",
       "  </tbody>\n",
       "</table>\n",
       "</div>"
      ],
      "text/plain": [
       "  Provinsi  Tahun   Produksi  Luas Panen  Curah hujan  Kelembapan  \\\n",
       "0     Aceh   1993  1329536.0    323589.0       1627.0       82.00   \n",
       "1     Aceh   1994  1299699.0    329041.0       1521.0       82.12   \n",
       "2     Aceh   1995  1382905.0    339253.0       1476.0       82.72   \n",
       "3     Aceh   1996  1419128.0    348223.0       1557.0       83.00   \n",
       "4     Aceh   1997  1368074.0    337561.0       1339.0       82.46   \n",
       "\n",
       "   Suhu rata-rata  \n",
       "0           26.06  \n",
       "1           26.92  \n",
       "2           26.27  \n",
       "3           26.08  \n",
       "4           26.31  "
      ]
     },
     "execution_count": 21,
     "metadata": {},
     "output_type": "execute_result"
    }
   ],
   "source": [
    "padi = pd.read_csv('finalProject.csv')\n",
    "padi.head()"
   ]
  },
  {
   "cell_type": "code",
   "execution_count": 22,
   "id": "69ec3cb3",
   "metadata": {},
   "outputs": [],
   "source": [
    "padi = pd.get_dummies(padi)"
   ]
  },
  {
   "cell_type": "code",
   "execution_count": 23,
   "id": "6aa79359",
   "metadata": {},
   "outputs": [
    {
     "data": {
      "text/html": [
       "<div>\n",
       "<style scoped>\n",
       "    .dataframe tbody tr th:only-of-type {\n",
       "        vertical-align: middle;\n",
       "    }\n",
       "\n",
       "    .dataframe tbody tr th {\n",
       "        vertical-align: top;\n",
       "    }\n",
       "\n",
       "    .dataframe thead th {\n",
       "        text-align: right;\n",
       "    }\n",
       "</style>\n",
       "<table border=\"1\" class=\"dataframe\">\n",
       "  <thead>\n",
       "    <tr style=\"text-align: right;\">\n",
       "      <th></th>\n",
       "      <th>Tahun</th>\n",
       "      <th>Produksi</th>\n",
       "      <th>Luas Panen</th>\n",
       "      <th>Curah hujan</th>\n",
       "      <th>Kelembapan</th>\n",
       "      <th>Suhu rata-rata</th>\n",
       "      <th>Provinsi_Aceh</th>\n",
       "      <th>Provinsi_Bengkulu</th>\n",
       "      <th>Provinsi_Jambi</th>\n",
       "      <th>Provinsi_Lampung</th>\n",
       "      <th>Provinsi_Riau</th>\n",
       "      <th>Provinsi_Sumatera Barat</th>\n",
       "      <th>Provinsi_Sumatera Selatan</th>\n",
       "      <th>Provinsi_Sumatera Utara</th>\n",
       "    </tr>\n",
       "  </thead>\n",
       "  <tbody>\n",
       "    <tr>\n",
       "      <th>0</th>\n",
       "      <td>1993</td>\n",
       "      <td>1329536.0</td>\n",
       "      <td>323589.0</td>\n",
       "      <td>1627.0</td>\n",
       "      <td>82.00</td>\n",
       "      <td>26.06</td>\n",
       "      <td>1</td>\n",
       "      <td>0</td>\n",
       "      <td>0</td>\n",
       "      <td>0</td>\n",
       "      <td>0</td>\n",
       "      <td>0</td>\n",
       "      <td>0</td>\n",
       "      <td>0</td>\n",
       "    </tr>\n",
       "    <tr>\n",
       "      <th>1</th>\n",
       "      <td>1994</td>\n",
       "      <td>1299699.0</td>\n",
       "      <td>329041.0</td>\n",
       "      <td>1521.0</td>\n",
       "      <td>82.12</td>\n",
       "      <td>26.92</td>\n",
       "      <td>1</td>\n",
       "      <td>0</td>\n",
       "      <td>0</td>\n",
       "      <td>0</td>\n",
       "      <td>0</td>\n",
       "      <td>0</td>\n",
       "      <td>0</td>\n",
       "      <td>0</td>\n",
       "    </tr>\n",
       "    <tr>\n",
       "      <th>2</th>\n",
       "      <td>1995</td>\n",
       "      <td>1382905.0</td>\n",
       "      <td>339253.0</td>\n",
       "      <td>1476.0</td>\n",
       "      <td>82.72</td>\n",
       "      <td>26.27</td>\n",
       "      <td>1</td>\n",
       "      <td>0</td>\n",
       "      <td>0</td>\n",
       "      <td>0</td>\n",
       "      <td>0</td>\n",
       "      <td>0</td>\n",
       "      <td>0</td>\n",
       "      <td>0</td>\n",
       "    </tr>\n",
       "    <tr>\n",
       "      <th>3</th>\n",
       "      <td>1996</td>\n",
       "      <td>1419128.0</td>\n",
       "      <td>348223.0</td>\n",
       "      <td>1557.0</td>\n",
       "      <td>83.00</td>\n",
       "      <td>26.08</td>\n",
       "      <td>1</td>\n",
       "      <td>0</td>\n",
       "      <td>0</td>\n",
       "      <td>0</td>\n",
       "      <td>0</td>\n",
       "      <td>0</td>\n",
       "      <td>0</td>\n",
       "      <td>0</td>\n",
       "    </tr>\n",
       "    <tr>\n",
       "      <th>4</th>\n",
       "      <td>1997</td>\n",
       "      <td>1368074.0</td>\n",
       "      <td>337561.0</td>\n",
       "      <td>1339.0</td>\n",
       "      <td>82.46</td>\n",
       "      <td>26.31</td>\n",
       "      <td>1</td>\n",
       "      <td>0</td>\n",
       "      <td>0</td>\n",
       "      <td>0</td>\n",
       "      <td>0</td>\n",
       "      <td>0</td>\n",
       "      <td>0</td>\n",
       "      <td>0</td>\n",
       "    </tr>\n",
       "  </tbody>\n",
       "</table>\n",
       "</div>"
      ],
      "text/plain": [
       "   Tahun   Produksi  Luas Panen  Curah hujan  Kelembapan  Suhu rata-rata  \\\n",
       "0   1993  1329536.0    323589.0       1627.0       82.00           26.06   \n",
       "1   1994  1299699.0    329041.0       1521.0       82.12           26.92   \n",
       "2   1995  1382905.0    339253.0       1476.0       82.72           26.27   \n",
       "3   1996  1419128.0    348223.0       1557.0       83.00           26.08   \n",
       "4   1997  1368074.0    337561.0       1339.0       82.46           26.31   \n",
       "\n",
       "   Provinsi_Aceh  Provinsi_Bengkulu  Provinsi_Jambi  Provinsi_Lampung  \\\n",
       "0              1                  0               0                 0   \n",
       "1              1                  0               0                 0   \n",
       "2              1                  0               0                 0   \n",
       "3              1                  0               0                 0   \n",
       "4              1                  0               0                 0   \n",
       "\n",
       "   Provinsi_Riau  Provinsi_Sumatera Barat  Provinsi_Sumatera Selatan  \\\n",
       "0              0                        0                          0   \n",
       "1              0                        0                          0   \n",
       "2              0                        0                          0   \n",
       "3              0                        0                          0   \n",
       "4              0                        0                          0   \n",
       "\n",
       "   Provinsi_Sumatera Utara  \n",
       "0                        0  \n",
       "1                        0  \n",
       "2                        0  \n",
       "3                        0  \n",
       "4                        0  "
      ]
     },
     "execution_count": 23,
     "metadata": {},
     "output_type": "execute_result"
    }
   ],
   "source": [
    "padi.head()"
   ]
  },
  {
   "cell_type": "markdown",
   "id": "e346c829",
   "metadata": {},
   "source": [
    "Eksplorasi data"
   ]
  },
  {
   "cell_type": "code",
   "execution_count": 34,
   "id": "d33e4fc2",
   "metadata": {},
   "outputs": [
    {
     "data": {
      "text/html": [
       "<div>\n",
       "<style scoped>\n",
       "    .dataframe tbody tr th:only-of-type {\n",
       "        vertical-align: middle;\n",
       "    }\n",
       "\n",
       "    .dataframe tbody tr th {\n",
       "        vertical-align: top;\n",
       "    }\n",
       "\n",
       "    .dataframe thead th {\n",
       "        text-align: right;\n",
       "    }\n",
       "</style>\n",
       "<table border=\"1\" class=\"dataframe\">\n",
       "  <thead>\n",
       "    <tr style=\"text-align: right;\">\n",
       "      <th></th>\n",
       "      <th>Tahun</th>\n",
       "      <th>Produksi</th>\n",
       "      <th>Luas Panen</th>\n",
       "      <th>Curah hujan</th>\n",
       "      <th>Kelembapan</th>\n",
       "      <th>Suhu rata-rata</th>\n",
       "      <th>Provinsi_Aceh</th>\n",
       "      <th>Provinsi_Bengkulu</th>\n",
       "      <th>Provinsi_Jambi</th>\n",
       "      <th>Provinsi_Lampung</th>\n",
       "      <th>Provinsi_Riau</th>\n",
       "      <th>Provinsi_Sumatera Barat</th>\n",
       "      <th>Provinsi_Sumatera Selatan</th>\n",
       "      <th>Provinsi_Sumatera Utara</th>\n",
       "    </tr>\n",
       "  </thead>\n",
       "  <tbody>\n",
       "    <tr>\n",
       "      <th>count</th>\n",
       "      <td>224.000000</td>\n",
       "      <td>2.240000e+02</td>\n",
       "      <td>224.000000</td>\n",
       "      <td>224.000000</td>\n",
       "      <td>224.000000</td>\n",
       "      <td>224.000000</td>\n",
       "      <td>224.00000</td>\n",
       "      <td>224.00000</td>\n",
       "      <td>224.00000</td>\n",
       "      <td>224.00000</td>\n",
       "      <td>224.00000</td>\n",
       "      <td>224.00000</td>\n",
       "      <td>224.00000</td>\n",
       "      <td>224.00000</td>\n",
       "    </tr>\n",
       "    <tr>\n",
       "      <th>mean</th>\n",
       "      <td>2006.500000</td>\n",
       "      <td>1.679701e+06</td>\n",
       "      <td>374349.966920</td>\n",
       "      <td>2452.490759</td>\n",
       "      <td>80.948705</td>\n",
       "      <td>26.801964</td>\n",
       "      <td>0.12500</td>\n",
       "      <td>0.12500</td>\n",
       "      <td>0.12500</td>\n",
       "      <td>0.12500</td>\n",
       "      <td>0.12500</td>\n",
       "      <td>0.12500</td>\n",
       "      <td>0.12500</td>\n",
       "      <td>0.12500</td>\n",
       "    </tr>\n",
       "    <tr>\n",
       "      <th>std</th>\n",
       "      <td>8.095838</td>\n",
       "      <td>1.161387e+06</td>\n",
       "      <td>232751.161987</td>\n",
       "      <td>1031.972625</td>\n",
       "      <td>4.878680</td>\n",
       "      <td>1.197041</td>\n",
       "      <td>0.33146</td>\n",
       "      <td>0.33146</td>\n",
       "      <td>0.33146</td>\n",
       "      <td>0.33146</td>\n",
       "      <td>0.33146</td>\n",
       "      <td>0.33146</td>\n",
       "      <td>0.33146</td>\n",
       "      <td>0.33146</td>\n",
       "    </tr>\n",
       "    <tr>\n",
       "      <th>min</th>\n",
       "      <td>1993.000000</td>\n",
       "      <td>4.293800e+04</td>\n",
       "      <td>63142.040000</td>\n",
       "      <td>222.500000</td>\n",
       "      <td>54.200000</td>\n",
       "      <td>22.190000</td>\n",
       "      <td>0.00000</td>\n",
       "      <td>0.00000</td>\n",
       "      <td>0.00000</td>\n",
       "      <td>0.00000</td>\n",
       "      <td>0.00000</td>\n",
       "      <td>0.00000</td>\n",
       "      <td>0.00000</td>\n",
       "      <td>0.00000</td>\n",
       "    </tr>\n",
       "    <tr>\n",
       "      <th>25%</th>\n",
       "      <td>1999.750000</td>\n",
       "      <td>5.488570e+05</td>\n",
       "      <td>146919.500000</td>\n",
       "      <td>1703.525000</td>\n",
       "      <td>78.975000</td>\n",
       "      <td>26.177500</td>\n",
       "      <td>0.00000</td>\n",
       "      <td>0.00000</td>\n",
       "      <td>0.00000</td>\n",
       "      <td>0.00000</td>\n",
       "      <td>0.00000</td>\n",
       "      <td>0.00000</td>\n",
       "      <td>0.00000</td>\n",
       "      <td>0.00000</td>\n",
       "    </tr>\n",
       "    <tr>\n",
       "      <th>50%</th>\n",
       "      <td>2006.500000</td>\n",
       "      <td>1.667773e+06</td>\n",
       "      <td>373551.500000</td>\n",
       "      <td>2315.700000</td>\n",
       "      <td>82.375000</td>\n",
       "      <td>26.730000</td>\n",
       "      <td>0.00000</td>\n",
       "      <td>0.00000</td>\n",
       "      <td>0.00000</td>\n",
       "      <td>0.00000</td>\n",
       "      <td>0.00000</td>\n",
       "      <td>0.00000</td>\n",
       "      <td>0.00000</td>\n",
       "      <td>0.00000</td>\n",
       "    </tr>\n",
       "    <tr>\n",
       "      <th>75%</th>\n",
       "      <td>2013.250000</td>\n",
       "      <td>2.436851e+06</td>\n",
       "      <td>514570.250000</td>\n",
       "      <td>3039.700000</td>\n",
       "      <td>84.000000</td>\n",
       "      <td>27.200000</td>\n",
       "      <td>0.00000</td>\n",
       "      <td>0.00000</td>\n",
       "      <td>0.00000</td>\n",
       "      <td>0.00000</td>\n",
       "      <td>0.00000</td>\n",
       "      <td>0.00000</td>\n",
       "      <td>0.00000</td>\n",
       "      <td>0.00000</td>\n",
       "    </tr>\n",
       "    <tr>\n",
       "      <th>max</th>\n",
       "      <td>2020.000000</td>\n",
       "      <td>4.881089e+06</td>\n",
       "      <td>872737.000000</td>\n",
       "      <td>5522.000000</td>\n",
       "      <td>90.600000</td>\n",
       "      <td>29.850000</td>\n",
       "      <td>1.00000</td>\n",
       "      <td>1.00000</td>\n",
       "      <td>1.00000</td>\n",
       "      <td>1.00000</td>\n",
       "      <td>1.00000</td>\n",
       "      <td>1.00000</td>\n",
       "      <td>1.00000</td>\n",
       "      <td>1.00000</td>\n",
       "    </tr>\n",
       "  </tbody>\n",
       "</table>\n",
       "</div>"
      ],
      "text/plain": [
       "             Tahun      Produksi     Luas Panen  Curah hujan  Kelembapan  \\\n",
       "count   224.000000  2.240000e+02     224.000000   224.000000  224.000000   \n",
       "mean   2006.500000  1.679701e+06  374349.966920  2452.490759   80.948705   \n",
       "std       8.095838  1.161387e+06  232751.161987  1031.972625    4.878680   \n",
       "min    1993.000000  4.293800e+04   63142.040000   222.500000   54.200000   \n",
       "25%    1999.750000  5.488570e+05  146919.500000  1703.525000   78.975000   \n",
       "50%    2006.500000  1.667773e+06  373551.500000  2315.700000   82.375000   \n",
       "75%    2013.250000  2.436851e+06  514570.250000  3039.700000   84.000000   \n",
       "max    2020.000000  4.881089e+06  872737.000000  5522.000000   90.600000   \n",
       "\n",
       "       Suhu rata-rata  Provinsi_Aceh  Provinsi_Bengkulu  Provinsi_Jambi  \\\n",
       "count      224.000000      224.00000          224.00000       224.00000   \n",
       "mean        26.801964        0.12500            0.12500         0.12500   \n",
       "std          1.197041        0.33146            0.33146         0.33146   \n",
       "min         22.190000        0.00000            0.00000         0.00000   \n",
       "25%         26.177500        0.00000            0.00000         0.00000   \n",
       "50%         26.730000        0.00000            0.00000         0.00000   \n",
       "75%         27.200000        0.00000            0.00000         0.00000   \n",
       "max         29.850000        1.00000            1.00000         1.00000   \n",
       "\n",
       "       Provinsi_Lampung  Provinsi_Riau  Provinsi_Sumatera Barat  \\\n",
       "count         224.00000      224.00000                224.00000   \n",
       "mean            0.12500        0.12500                  0.12500   \n",
       "std             0.33146        0.33146                  0.33146   \n",
       "min             0.00000        0.00000                  0.00000   \n",
       "25%             0.00000        0.00000                  0.00000   \n",
       "50%             0.00000        0.00000                  0.00000   \n",
       "75%             0.00000        0.00000                  0.00000   \n",
       "max             1.00000        1.00000                  1.00000   \n",
       "\n",
       "       Provinsi_Sumatera Selatan  Provinsi_Sumatera Utara  \n",
       "count                  224.00000                224.00000  \n",
       "mean                     0.12500                  0.12500  \n",
       "std                      0.33146                  0.33146  \n",
       "min                      0.00000                  0.00000  \n",
       "25%                      0.00000                  0.00000  \n",
       "50%                      0.00000                  0.00000  \n",
       "75%                      0.00000                  0.00000  \n",
       "max                      1.00000                  1.00000  "
      ]
     },
     "execution_count": 34,
     "metadata": {},
     "output_type": "execute_result"
    }
   ],
   "source": [
    "# Merangkum data\n",
    "padi.describe()"
   ]
  },
  {
   "cell_type": "code",
   "execution_count": 33,
   "id": "6d5ff6af",
   "metadata": {},
   "outputs": [
    {
     "data": {
      "image/png": "[encoded data removed]",
      "text/plain": [
       "<Figure size 640x480 with 6 Axes>"
      ]
     },
     "metadata": {},
     "output_type": "display_data"
    }
   ],
   "source": [
    "viz = padi[['Produksi','Luas Panen', 'Curah hujan', 'Kelembapan', 'Suhu rata-rata']]\n",
    "viz.hist()\n",
    "plt.show()"
   ]
  },
  {
   "cell_type": "markdown",
   "id": "1b9bda9f",
   "metadata": {},
   "source": [
    "Pembuatan dataset pelatihan dan pengujian"
   ]
  },
  {
   "cell_type": "code",
   "execution_count": 24,
   "id": "23bc2296",
   "metadata": {},
   "outputs": [],
   "source": [
    "X = padi.drop('Produksi', axis='columns')\n",
    "y = padi['Produksi']"
   ]
  },
  {
   "cell_type": "code",
   "execution_count": 25,
   "id": "4443b93c",
   "metadata": {},
   "outputs": [],
   "source": [
    "# Proses splitting dataset pelatihan dan pengujian\n",
    "from sklearn.model_selection import train_test_split\n",
    "X_train, X_test, y_train, y_test = train_test_split(X, y, test_size=0.2, random_state=3)"
   ]
  },
  {
   "cell_type": "markdown",
   "id": "5eaa81d8",
   "metadata": {},
   "source": [
    "Pembuatan model"
   ]
  },
  {
   "cell_type": "code",
   "execution_count": 26,
   "id": "06f8a897",
   "metadata": {},
   "outputs": [
    {
     "data": {
      "text/plain": [
       "DecisionTreeRegressor(max_depth=8, min_samples_leaf=0.13, random_state=3)"
      ]
     },
     "execution_count": 26,
     "metadata": {},
     "output_type": "execute_result"
    }
   ],
   "source": [
    "from sklearn.tree import DecisionTreeRegressor\n",
    "\n",
    "# Instantiate dt\n",
    "dt = DecisionTreeRegressor(max_depth=8, min_samples_leaf=0.13, random_state=3)\n",
    "\n",
    "# Fit dt kedalam the training set\n",
    "dt.fit(X_train, y_train)"
   ]
  },
  {
   "cell_type": "markdown",
   "id": "76f82eb1",
   "metadata": {},
   "source": [
    "Evaluasi"
   ]
  },
  {
   "cell_type": "raw",
   "id": "be3064b8",
   "metadata": {},
   "source": [
    "Nilai aktual dan nilai prediksi dapat dibandingkan untuk menghitung dari model regresi. Metrik evaluasi sangat penting untuk pengembangan model karena memberikan pengetahuan untuk perbaikan model. Ada berbagai metrik untuk evaluasi model : "
   ]
  },
  {
   "cell_type": "code",
   "execution_count": 27,
   "id": "5dc50b85",
   "metadata": {},
   "outputs": [],
   "source": [
    "from sklearn.metrics import mean_squared_error, r2_score, mean_absolute_error"
   ]
  },
  {
   "cell_type": "code",
   "execution_count": 28,
   "id": "e5ee296d",
   "metadata": {},
   "outputs": [],
   "source": [
    "predictions = dt.predict(X_test)"
   ]
  },
  {
   "cell_type": "raw",
   "id": "c1553116",
   "metadata": {},
   "source": [
    "MSE (Mean Squared Error) sebagai error untuk mengetahui akurasi dari model yang dibangan yang dihitung dari MSE model terhadap pengujian, MSE adalah rerata dari error dikuadratkan. "
   ]
  },
  {
   "cell_type": "code",
   "execution_count": 29,
   "id": "221c794e",
   "metadata": {},
   "outputs": [
    {
     "name": "stdout",
     "output_type": "stream",
     "text": [
      "MSE: 226603240169.11\n"
     ]
    }
   ],
   "source": [
    "# MSE (Mean Squared Error) \n",
    "mse = mean_squared_error (y_test, predictions)\n",
    "print(\"MSE: %.2f\"  % mse)"
   ]
  },
  {
   "cell_type": "code",
   "execution_count": 30,
   "id": "9e049382",
   "metadata": {},
   "outputs": [
    {
     "name": "stdout",
     "output_type": "stream",
     "text": [
      "RMSE: 476028.61\n"
     ]
    }
   ],
   "source": [
    "rmse = np.sqrt(mse)\n",
    "print(\"RMSE: %.2f\" % rmse)"
   ]
  },
  {
   "cell_type": "code",
   "execution_count": 31,
   "id": "6d0f2387",
   "metadata": {},
   "outputs": [
    {
     "name": "stdout",
     "output_type": "stream",
     "text": [
      "MAE: 298263.09\n"
     ]
    }
   ],
   "source": [
    "mae = mean_absolute_error (y_test, predictions)\n",
    "print(\"MAE: %.2f\" % mae)"
   ]
  },
  {
   "cell_type": "raw",
   "id": "d65a2299",
   "metadata": {},
   "source": [
    "R-squared bukan error namun metrik yang populer yang mempresentasikan sejauh mana data cocok dengan garis regresi yang didapatkan. Semakin besar R-square semakin baik pencocokan garis terhadap data. Nilai terbaik adalah 1.0 dan dapat bernilai negatif."
   ]
  },
  {
   "cell_type": "code",
   "execution_count": 32,
   "id": "b8920874",
   "metadata": {},
   "outputs": [
    {
     "name": "stdout",
     "output_type": "stream",
     "text": [
      "Nilai R2-score: 0.8516\n",
      "artinya variabel bebas dalam model dapat menjelaskan sebesar 85.16 % varibel terikat dalam model\n"
     ]
    }
   ],
   "source": [
    "r2 = r2_score(y_test, predictions)\n",
    "print(\"Nilai R2-score:\", round(r2, 4))\n",
    "print(\"artinya variabel bebas dalam model dapat menjelaskan sebesar\", round(r2*100,2), \"% varibel terikat dalam model\")"
   ]
  },
  {
   "cell_type": "code",
   "execution_count": null,
   "id": "d13ba4c2",
   "metadata": {},
   "outputs": [],
   "source": []
  }
 ],
 "metadata": {
  "kernelspec": {
   "display_name": "Python 3 (ipykernel)",
   "language": "python",
   "name": "python3"
  },
  "language_info": {
   "codemirror_mode": {
    "name": "ipython",
    "version": 3
   },
   "file_extension": ".py",
   "mimetype": "text/x-python",
   "name": "python",
   "nbconvert_exporter": "python",
   "pygments_lexer": "ipython3",
   "version": "3.9.13"
  }
 },
 "nbformat": 4,
 "nbformat_minor": 5
}
