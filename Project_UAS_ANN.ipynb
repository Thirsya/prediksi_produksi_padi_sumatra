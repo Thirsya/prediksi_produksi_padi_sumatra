{
  "cells": [
    {
      "cell_type": "code",
      "execution_count": null,
      "id": "10569967",
      "metadata": {
        "colab": {
          "base_uri": "https://localhost:8080/"
        },
        "id": "10569967",
        "outputId": "87852b67-9523-4239-a2d2-983aaf7cfdb0"
      },
      "outputs": [
        {
          "output_type": "stream",
          "name": "stdout",
          "text": [
            "Looking in indexes: https://pypi.org/simple, https://us-python.pkg.dev/colab-wheels/public/simple/\n",
            "Requirement already satisfied: tensorflow in /usr/local/lib/python3.8/dist-packages (2.9.2)\n",
            "Requirement already satisfied: tensorflow-estimator<2.10.0,>=2.9.0rc0 in /usr/local/lib/python3.8/dist-packages (from tensorflow) (2.9.0)\n",
            "Requirement already satisfied: termcolor>=1.1.0 in /usr/local/lib/python3.8/dist-packages (from tensorflow) (2.1.1)\n",
            "Requirement already satisfied: astunparse>=1.6.0 in /usr/local/lib/python3.8/dist-packages (from tensorflow) (1.6.3)\n",
            "Requirement already satisfied: setuptools in /usr/local/lib/python3.8/dist-packages (from tensorflow) (57.4.0)\n",
            "Requirement already satisfied: keras-preprocessing>=1.1.1 in /usr/local/lib/python3.8/dist-packages (from tensorflow) (1.1.2)\n",
            "Requirement already satisfied: google-pasta>=0.1.1 in /usr/local/lib/python3.8/dist-packages (from tensorflow) (0.2.0)\n",
            "Requirement already satisfied: absl-py>=1.0.0 in /usr/local/lib/python3.8/dist-packages (from tensorflow) (1.3.0)\n",
            "Requirement already satisfied: six>=1.12.0 in /usr/local/lib/python3.8/dist-packages (from tensorflow) (1.15.0)\n",
            "Requirement already satisfied: grpcio<2.0,>=1.24.3 in /usr/local/lib/python3.8/dist-packages (from tensorflow) (1.51.1)\n",
            "Requirement already satisfied: keras<2.10.0,>=2.9.0rc0 in /usr/local/lib/python3.8/dist-packages (from tensorflow) (2.9.0)\n",
            "Requirement already satisfied: tensorboard<2.10,>=2.9 in /usr/local/lib/python3.8/dist-packages (from tensorflow) (2.9.1)\n",
            "Requirement already satisfied: protobuf<3.20,>=3.9.2 in /usr/local/lib/python3.8/dist-packages (from tensorflow) (3.19.6)\n",
            "Requirement already satisfied: packaging in /usr/local/lib/python3.8/dist-packages (from tensorflow) (21.3)\n",
            "Requirement already satisfied: h5py>=2.9.0 in /usr/local/lib/python3.8/dist-packages (from tensorflow) (3.1.0)\n",
            "Requirement already satisfied: libclang>=13.0.0 in /usr/local/lib/python3.8/dist-packages (from tensorflow) (14.0.6)\n",
            "Requirement already satisfied: numpy>=1.20 in /usr/local/lib/python3.8/dist-packages (from tensorflow) (1.21.6)\n",
            "Requirement already satisfied: tensorflow-io-gcs-filesystem>=0.23.1 in /usr/local/lib/python3.8/dist-packages (from tensorflow) (0.28.0)\n",
            "Requirement already satisfied: wrapt>=1.11.0 in /usr/local/lib/python3.8/dist-packages (from tensorflow) (1.14.1)\n",
            "Requirement already satisfied: opt-einsum>=2.3.2 in /usr/local/lib/python3.8/dist-packages (from tensorflow) (3.3.0)\n",
            "Requirement already satisfied: flatbuffers<2,>=1.12 in /usr/local/lib/python3.8/dist-packages (from tensorflow) (1.12)\n",
            "Requirement already satisfied: typing-extensions>=3.6.6 in /usr/local/lib/python3.8/dist-packages (from tensorflow) (4.4.0)\n",
            "Requirement already satisfied: gast<=0.4.0,>=0.2.1 in /usr/local/lib/python3.8/dist-packages (from tensorflow) (0.4.0)\n",
            "Requirement already satisfied: wheel<1.0,>=0.23.0 in /usr/local/lib/python3.8/dist-packages (from astunparse>=1.6.0->tensorflow) (0.38.4)\n",
            "Requirement already satisfied: google-auth-oauthlib<0.5,>=0.4.1 in /usr/local/lib/python3.8/dist-packages (from tensorboard<2.10,>=2.9->tensorflow) (0.4.6)\n",
            "Requirement already satisfied: werkzeug>=1.0.1 in /usr/local/lib/python3.8/dist-packages (from tensorboard<2.10,>=2.9->tensorflow) (1.0.1)\n",
            "Requirement already satisfied: markdown>=2.6.8 in /usr/local/lib/python3.8/dist-packages (from tensorboard<2.10,>=2.9->tensorflow) (3.4.1)\n",
            "Requirement already satisfied: tensorboard-plugin-wit>=1.6.0 in /usr/local/lib/python3.8/dist-packages (from tensorboard<2.10,>=2.9->tensorflow) (1.8.1)\n",
            "Requirement already satisfied: requests<3,>=2.21.0 in /usr/local/lib/python3.8/dist-packages (from tensorboard<2.10,>=2.9->tensorflow) (2.23.0)\n",
            "Requirement already satisfied: tensorboard-data-server<0.7.0,>=0.6.0 in /usr/local/lib/python3.8/dist-packages (from tensorboard<2.10,>=2.9->tensorflow) (0.6.1)\n",
            "Requirement already satisfied: google-auth<3,>=1.6.3 in /usr/local/lib/python3.8/dist-packages (from tensorboard<2.10,>=2.9->tensorflow) (2.15.0)\n",
            "Requirement already satisfied: pyasn1-modules>=0.2.1 in /usr/local/lib/python3.8/dist-packages (from google-auth<3,>=1.6.3->tensorboard<2.10,>=2.9->tensorflow) (0.2.8)\n",
            "Requirement already satisfied: cachetools<6.0,>=2.0.0 in /usr/local/lib/python3.8/dist-packages (from google-auth<3,>=1.6.3->tensorboard<2.10,>=2.9->tensorflow) (5.2.0)\n",
            "Requirement already satisfied: rsa<5,>=3.1.4 in /usr/local/lib/python3.8/dist-packages (from google-auth<3,>=1.6.3->tensorboard<2.10,>=2.9->tensorflow) (4.9)\n",
            "Requirement already satisfied: requests-oauthlib>=0.7.0 in /usr/local/lib/python3.8/dist-packages (from google-auth-oauthlib<0.5,>=0.4.1->tensorboard<2.10,>=2.9->tensorflow) (1.3.1)\n",
            "Requirement already satisfied: importlib-metadata>=4.4 in /usr/local/lib/python3.8/dist-packages (from markdown>=2.6.8->tensorboard<2.10,>=2.9->tensorflow) (5.1.0)\n",
            "Requirement already satisfied: zipp>=0.5 in /usr/local/lib/python3.8/dist-packages (from importlib-metadata>=4.4->markdown>=2.6.8->tensorboard<2.10,>=2.9->tensorflow) (3.11.0)\n",
            "Requirement already satisfied: pyasn1<0.5.0,>=0.4.6 in /usr/local/lib/python3.8/dist-packages (from pyasn1-modules>=0.2.1->google-auth<3,>=1.6.3->tensorboard<2.10,>=2.9->tensorflow) (0.4.8)\n",
            "Requirement already satisfied: chardet<4,>=3.0.2 in /usr/local/lib/python3.8/dist-packages (from requests<3,>=2.21.0->tensorboard<2.10,>=2.9->tensorflow) (3.0.4)\n",
            "Requirement already satisfied: urllib3!=1.25.0,!=1.25.1,<1.26,>=1.21.1 in /usr/local/lib/python3.8/dist-packages (from requests<3,>=2.21.0->tensorboard<2.10,>=2.9->tensorflow) (1.24.3)\n",
            "Requirement already satisfied: certifi>=2017.4.17 in /usr/local/lib/python3.8/dist-packages (from requests<3,>=2.21.0->tensorboard<2.10,>=2.9->tensorflow) (2022.12.7)\n",
            "Requirement already satisfied: idna<3,>=2.5 in /usr/local/lib/python3.8/dist-packages (from requests<3,>=2.21.0->tensorboard<2.10,>=2.9->tensorflow) (2.10)\n",
            "Requirement already satisfied: oauthlib>=3.0.0 in /usr/local/lib/python3.8/dist-packages (from requests-oauthlib>=0.7.0->google-auth-oauthlib<0.5,>=0.4.1->tensorboard<2.10,>=2.9->tensorflow) (3.2.2)\n",
            "Requirement already satisfied: pyparsing!=3.0.5,>=2.0.2 in /usr/local/lib/python3.8/dist-packages (from packaging->tensorflow) (3.0.9)\n",
            "Looking in indexes: https://pypi.org/simple, https://us-python.pkg.dev/colab-wheels/public/simple/\n",
            "Requirement already satisfied: keras in /usr/local/lib/python3.8/dist-packages (2.9.0)\n"
          ]
        }
      ],
      "source": [
        "# Installing required libraries\n",
        "!pip install tensorflow\n",
        "!pip install keras"
      ]
    },
    {
      "cell_type": "code",
      "execution_count": null,
      "id": "c6be33e5",
      "metadata": {
        "id": "c6be33e5"
      },
      "outputs": [],
      "source": [
        "import numpy as np\n",
        "import pandas as pd\n",
        "import tensorflow as tf"
      ]
    },
    {
      "cell_type": "code",
      "execution_count": null,
      "id": "ce04560f",
      "metadata": {
        "colab": {
          "base_uri": "https://localhost:8080/",
          "height": 206
        },
        "id": "ce04560f",
        "outputId": "069e6e08-f16d-4f96-8b38-bd0bcb137d1e"
      },
      "outputs": [
        {
          "output_type": "execute_result",
          "data": {
            "text/plain": [
              "  Provinsi  Tahun   Produksi  Luas Panen  Curah hujan  Kelembapan  \\\n",
              "0     Aceh   1993  1329536.0    323589.0       1627.0       82.00   \n",
              "1     Aceh   1994  1299699.0    329041.0       1521.0       82.12   \n",
              "2     Aceh   1995  1382905.0    339253.0       1476.0       82.72   \n",
              "3     Aceh   1996  1419128.0    348223.0       1557.0       83.00   \n",
              "4     Aceh   1997  1368074.0    337561.0       1339.0       82.46   \n",
              "\n",
              "   Suhu rata-rata  \n",
              "0           26.06  \n",
              "1           26.92  \n",
              "2           26.27  \n",
              "3           26.08  \n",
              "4           26.31  "
            ],
            "text/html": [
              "\n",
              "  <div id=\"df-b6b22a4f-fd64-40b7-97ad-6f6feebb187e\">\n",
              "    <div class=\"colab-df-container\">\n",
              "      <div>\n",
              "<style scoped>\n",
              "    .dataframe tbody tr th:only-of-type {\n",
              "        vertical-align: middle;\n",
              "    }\n",
              "\n",
              "    .dataframe tbody tr th {\n",
              "        vertical-align: top;\n",
              "    }\n",
              "\n",
              "    .dataframe thead th {\n",
              "        text-align: right;\n",
              "    }\n",
              "</style>\n",
              "<table border=\"1\" class=\"dataframe\">\n",
              "  <thead>\n",
              "    <tr style=\"text-align: right;\">\n",
              "      <th></th>\n",
              "      <th>Provinsi</th>\n",
              "      <th>Tahun</th>\n",
              "      <th>Produksi</th>\n",
              "      <th>Luas Panen</th>\n",
              "      <th>Curah hujan</th>\n",
              "      <th>Kelembapan</th>\n",
              "      <th>Suhu rata-rata</th>\n",
              "    </tr>\n",
              "  </thead>\n",
              "  <tbody>\n",
              "    <tr>\n",
              "      <th>0</th>\n",
              "      <td>Aceh</td>\n",
              "      <td>1993</td>\n",
              "      <td>1329536.0</td>\n",
              "      <td>323589.0</td>\n",
              "      <td>1627.0</td>\n",
              "      <td>82.00</td>\n",
              "      <td>26.06</td>\n",
              "    </tr>\n",
              "    <tr>\n",
              "      <th>1</th>\n",
              "      <td>Aceh</td>\n",
              "      <td>1994</td>\n",
              "      <td>1299699.0</td>\n",
              "      <td>329041.0</td>\n",
              "      <td>1521.0</td>\n",
              "      <td>82.12</td>\n",
              "      <td>26.92</td>\n",
              "    </tr>\n",
              "    <tr>\n",
              "      <th>2</th>\n",
              "      <td>Aceh</td>\n",
              "      <td>1995</td>\n",
              "      <td>1382905.0</td>\n",
              "      <td>339253.0</td>\n",
              "      <td>1476.0</td>\n",
              "      <td>82.72</td>\n",
              "      <td>26.27</td>\n",
              "    </tr>\n",
              "    <tr>\n",
              "      <th>3</th>\n",
              "      <td>Aceh</td>\n",
              "      <td>1996</td>\n",
              "      <td>1419128.0</td>\n",
              "      <td>348223.0</td>\n",
              "      <td>1557.0</td>\n",
              "      <td>83.00</td>\n",
              "      <td>26.08</td>\n",
              "    </tr>\n",
              "    <tr>\n",
              "      <th>4</th>\n",
              "      <td>Aceh</td>\n",
              "      <td>1997</td>\n",
              "      <td>1368074.0</td>\n",
              "      <td>337561.0</td>\n",
              "      <td>1339.0</td>\n",
              "      <td>82.46</td>\n",
              "      <td>26.31</td>\n",
              "    </tr>\n",
              "  </tbody>\n",
              "</table>\n",
              "</div>\n",
              "      <button class=\"colab-df-convert\" onclick=\"convertToInteractive('df-b6b22a4f-fd64-40b7-97ad-6f6feebb187e')\"\n",
              "              title=\"Convert this dataframe to an interactive table.\"\n",
              "              style=\"display:none;\">\n",
              "        \n",
              "  <svg xmlns=\"http://www.w3.org/2000/svg\" height=\"24px\"viewBox=\"0 0 24 24\"\n",
              "       width=\"24px\">\n",
              "    <path d=\"M0 0h24v24H0V0z\" fill=\"none\"/>\n",
              "    <path d=\"M18.56 5.44l.94 2.06.94-2.06 2.06-.94-2.06-.94-.94-2.06-.94 2.06-2.06.94zm-11 1L8.5 8.5l.94-2.06 2.06-.94-2.06-.94L8.5 2.5l-.94 2.06-2.06.94zm10 10l.94 2.06.94-2.06 2.06-.94-2.06-.94-.94-2.06-.94 2.06-2.06.94z\"/><path d=\"M17.41 7.96l-1.37-1.37c-.4-.4-.92-.59-1.43-.59-.52 0-1.04.2-1.43.59L10.3 9.45l-7.72 7.72c-.78.78-.78 2.05 0 2.83L4 21.41c.39.39.9.59 1.41.59.51 0 1.02-.2 1.41-.59l7.78-7.78 2.81-2.81c.8-.78.8-2.07 0-2.86zM5.41 20L4 18.59l7.72-7.72 1.47 1.35L5.41 20z\"/>\n",
              "  </svg>\n",
              "      </button>\n",
              "      \n",
              "  <style>\n",
              "    .colab-df-container {\n",
              "      display:flex;\n",
              "      flex-wrap:wrap;\n",
              "      gap: 12px;\n",
              "    }\n",
              "\n",
              "    .colab-df-convert {\n",
              "      background-color: #E8F0FE;\n",
              "      border: none;\n",
              "      border-radius: 50%;\n",
              "      cursor: pointer;\n",
              "      display: none;\n",
              "      fill: #1967D2;\n",
              "      height: 32px;\n",
              "      padding: 0 0 0 0;\n",
              "      width: 32px;\n",
              "    }\n",
              "\n",
              "    .colab-df-convert:hover {\n",
              "      background-color: #E2EBFA;\n",
              "      box-shadow: 0px 1px 2px rgba(60, 64, 67, 0.3), 0px 1px 3px 1px rgba(60, 64, 67, 0.15);\n",
              "      fill: #174EA6;\n",
              "    }\n",
              "\n",
              "    [theme=dark] .colab-df-convert {\n",
              "      background-color: #3B4455;\n",
              "      fill: #D2E3FC;\n",
              "    }\n",
              "\n",
              "    [theme=dark] .colab-df-convert:hover {\n",
              "      background-color: #434B5C;\n",
              "      box-shadow: 0px 1px 3px 1px rgba(0, 0, 0, 0.15);\n",
              "      filter: drop-shadow(0px 1px 2px rgba(0, 0, 0, 0.3));\n",
              "      fill: #FFFFFF;\n",
              "    }\n",
              "  </style>\n",
              "\n",
              "      <script>\n",
              "        const buttonEl =\n",
              "          document.querySelector('#df-b6b22a4f-fd64-40b7-97ad-6f6feebb187e button.colab-df-convert');\n",
              "        buttonEl.style.display =\n",
              "          google.colab.kernel.accessAllowed ? 'block' : 'none';\n",
              "\n",
              "        async function convertToInteractive(key) {\n",
              "          const element = document.querySelector('#df-b6b22a4f-fd64-40b7-97ad-6f6feebb187e');\n",
              "          const dataTable =\n",
              "            await google.colab.kernel.invokeFunction('convertToInteractive',\n",
              "                                                     [key], {});\n",
              "          if (!dataTable) return;\n",
              "\n",
              "          const docLinkHtml = 'Like what you see? Visit the ' +\n",
              "            '<a target=\"_blank\" href=https://colab.research.google.com/notebooks/data_table.ipynb>data table notebook</a>'\n",
              "            + ' to learn more about interactive tables.';\n",
              "          element.innerHTML = '';\n",
              "          dataTable['output_type'] = 'display_data';\n",
              "          await google.colab.output.renderOutput(dataTable, element);\n",
              "          const docLink = document.createElement('div');\n",
              "          docLink.innerHTML = docLinkHtml;\n",
              "          element.appendChild(docLink);\n",
              "        }\n",
              "      </script>\n",
              "    </div>\n",
              "  </div>\n",
              "  "
            ]
          },
          "metadata": {},
          "execution_count": 4
        }
      ],
      "source": [
        "padi = pd.read_csv('finalProject.csv')\n",
        "padi.head()"
      ]
    },
    {
      "cell_type": "code",
      "execution_count": null,
      "id": "c8c3eaed",
      "metadata": {
        "id": "c8c3eaed"
      },
      "outputs": [],
      "source": [
        "X = padi.iloc[:, :-1].values\n",
        "y = padi.iloc[:, -1].values"
      ]
    },
    {
      "cell_type": "code",
      "source": [
        "from sklearn.preprocessing import LabelEncoder\n",
        "encode = LabelEncoder()\n",
        "padi['Provinsi'] = encode.fit_transform(padi['Provinsi'])\n",
        "\n",
        "padi"
      ],
      "metadata": {
        "colab": {
          "base_uri": "https://localhost:8080/",
          "height": 424
        },
        "id": "5_Er544Cuasa",
        "outputId": "9cd3a062-8d69-4ee2-8fa2-a994ddb3701e"
      },
      "id": "5_Er544Cuasa",
      "execution_count": null,
      "outputs": [
        {
          "output_type": "execute_result",
          "data": {
            "text/plain": [
              "     Provinsi  Tahun    Produksi  Luas Panen  Curah hujan  Kelembapan  \\\n",
              "0           0   1993  1329536.00   323589.00       1627.0       82.00   \n",
              "1           0   1994  1299699.00   329041.00       1521.0       82.12   \n",
              "2           0   1995  1382905.00   339253.00       1476.0       82.72   \n",
              "3           0   1996  1419128.00   348223.00       1557.0       83.00   \n",
              "4           0   1997  1368074.00   337561.00       1339.0       82.46   \n",
              "..        ...    ...         ...         ...          ...         ...   \n",
              "219         3   2016  3831923.00   390799.00       2317.6       79.40   \n",
              "220         3   2017  4090654.00   396559.00       1825.1       77.04   \n",
              "221         3   2018  2488641.91   511940.93       1385.8       76.05   \n",
              "222         3   2019  2164089.33   464103.42       1706.4       78.03   \n",
              "223         3   2020  2604913.29   545149.05       2211.3       75.80   \n",
              "\n",
              "     Suhu rata-rata  \n",
              "0             26.06  \n",
              "1             26.92  \n",
              "2             26.27  \n",
              "3             26.08  \n",
              "4             26.31  \n",
              "..              ...  \n",
              "219           26.45  \n",
              "220           26.36  \n",
              "221           25.50  \n",
              "222           27.23  \n",
              "223           24.58  \n",
              "\n",
              "[224 rows x 7 columns]"
            ],
            "text/html": [
              "\n",
              "  <div id=\"df-3d6b5c43-18e6-4a40-9817-8e438ac9a660\">\n",
              "    <div class=\"colab-df-container\">\n",
              "      <div>\n",
              "<style scoped>\n",
              "    .dataframe tbody tr th:only-of-type {\n",
              "        vertical-align: middle;\n",
              "    }\n",
              "\n",
              "    .dataframe tbody tr th {\n",
              "        vertical-align: top;\n",
              "    }\n",
              "\n",
              "    .dataframe thead th {\n",
              "        text-align: right;\n",
              "    }\n",
              "</style>\n",
              "<table border=\"1\" class=\"dataframe\">\n",
              "  <thead>\n",
              "    <tr style=\"text-align: right;\">\n",
              "      <th></th>\n",
              "      <th>Provinsi</th>\n",
              "      <th>Tahun</th>\n",
              "      <th>Produksi</th>\n",
              "      <th>Luas Panen</th>\n",
              "      <th>Curah hujan</th>\n",
              "      <th>Kelembapan</th>\n",
              "      <th>Suhu rata-rata</th>\n",
              "    </tr>\n",
              "  </thead>\n",
              "  <tbody>\n",
              "    <tr>\n",
              "      <th>0</th>\n",
              "      <td>0</td>\n",
              "      <td>1993</td>\n",
              "      <td>1329536.00</td>\n",
              "      <td>323589.00</td>\n",
              "      <td>1627.0</td>\n",
              "      <td>82.00</td>\n",
              "      <td>26.06</td>\n",
              "    </tr>\n",
              "    <tr>\n",
              "      <th>1</th>\n",
              "      <td>0</td>\n",
              "      <td>1994</td>\n",
              "      <td>1299699.00</td>\n",
              "      <td>329041.00</td>\n",
              "      <td>1521.0</td>\n",
              "      <td>82.12</td>\n",
              "      <td>26.92</td>\n",
              "    </tr>\n",
              "    <tr>\n",
              "      <th>2</th>\n",
              "      <td>0</td>\n",
              "      <td>1995</td>\n",
              "      <td>1382905.00</td>\n",
              "      <td>339253.00</td>\n",
              "      <td>1476.0</td>\n",
              "      <td>82.72</td>\n",
              "      <td>26.27</td>\n",
              "    </tr>\n",
              "    <tr>\n",
              "      <th>3</th>\n",
              "      <td>0</td>\n",
              "      <td>1996</td>\n",
              "      <td>1419128.00</td>\n",
              "      <td>348223.00</td>\n",
              "      <td>1557.0</td>\n",
              "      <td>83.00</td>\n",
              "      <td>26.08</td>\n",
              "    </tr>\n",
              "    <tr>\n",
              "      <th>4</th>\n",
              "      <td>0</td>\n",
              "      <td>1997</td>\n",
              "      <td>1368074.00</td>\n",
              "      <td>337561.00</td>\n",
              "      <td>1339.0</td>\n",
              "      <td>82.46</td>\n",
              "      <td>26.31</td>\n",
              "    </tr>\n",
              "    <tr>\n",
              "      <th>...</th>\n",
              "      <td>...</td>\n",
              "      <td>...</td>\n",
              "      <td>...</td>\n",
              "      <td>...</td>\n",
              "      <td>...</td>\n",
              "      <td>...</td>\n",
              "      <td>...</td>\n",
              "    </tr>\n",
              "    <tr>\n",
              "      <th>219</th>\n",
              "      <td>3</td>\n",
              "      <td>2016</td>\n",
              "      <td>3831923.00</td>\n",
              "      <td>390799.00</td>\n",
              "      <td>2317.6</td>\n",
              "      <td>79.40</td>\n",
              "      <td>26.45</td>\n",
              "    </tr>\n",
              "    <tr>\n",
              "      <th>220</th>\n",
              "      <td>3</td>\n",
              "      <td>2017</td>\n",
              "      <td>4090654.00</td>\n",
              "      <td>396559.00</td>\n",
              "      <td>1825.1</td>\n",
              "      <td>77.04</td>\n",
              "      <td>26.36</td>\n",
              "    </tr>\n",
              "    <tr>\n",
              "      <th>221</th>\n",
              "      <td>3</td>\n",
              "      <td>2018</td>\n",
              "      <td>2488641.91</td>\n",
              "      <td>511940.93</td>\n",
              "      <td>1385.8</td>\n",
              "      <td>76.05</td>\n",
              "      <td>25.50</td>\n",
              "    </tr>\n",
              "    <tr>\n",
              "      <th>222</th>\n",
              "      <td>3</td>\n",
              "      <td>2019</td>\n",
              "      <td>2164089.33</td>\n",
              "      <td>464103.42</td>\n",
              "      <td>1706.4</td>\n",
              "      <td>78.03</td>\n",
              "      <td>27.23</td>\n",
              "    </tr>\n",
              "    <tr>\n",
              "      <th>223</th>\n",
              "      <td>3</td>\n",
              "      <td>2020</td>\n",
              "      <td>2604913.29</td>\n",
              "      <td>545149.05</td>\n",
              "      <td>2211.3</td>\n",
              "      <td>75.80</td>\n",
              "      <td>24.58</td>\n",
              "    </tr>\n",
              "  </tbody>\n",
              "</table>\n",
              "<p>224 rows × 7 columns</p>\n",
              "</div>\n",
              "      <button class=\"colab-df-convert\" onclick=\"convertToInteractive('df-3d6b5c43-18e6-4a40-9817-8e438ac9a660')\"\n",
              "              title=\"Convert this dataframe to an interactive table.\"\n",
              "              style=\"display:none;\">\n",
              "        \n",
              "  <svg xmlns=\"http://www.w3.org/2000/svg\" height=\"24px\"viewBox=\"0 0 24 24\"\n",
              "       width=\"24px\">\n",
              "    <path d=\"M0 0h24v24H0V0z\" fill=\"none\"/>\n",
              "    <path d=\"M18.56 5.44l.94 2.06.94-2.06 2.06-.94-2.06-.94-.94-2.06-.94 2.06-2.06.94zm-11 1L8.5 8.5l.94-2.06 2.06-.94-2.06-.94L8.5 2.5l-.94 2.06-2.06.94zm10 10l.94 2.06.94-2.06 2.06-.94-2.06-.94-.94-2.06-.94 2.06-2.06.94z\"/><path d=\"M17.41 7.96l-1.37-1.37c-.4-.4-.92-.59-1.43-.59-.52 0-1.04.2-1.43.59L10.3 9.45l-7.72 7.72c-.78.78-.78 2.05 0 2.83L4 21.41c.39.39.9.59 1.41.59.51 0 1.02-.2 1.41-.59l7.78-7.78 2.81-2.81c.8-.78.8-2.07 0-2.86zM5.41 20L4 18.59l7.72-7.72 1.47 1.35L5.41 20z\"/>\n",
              "  </svg>\n",
              "      </button>\n",
              "      \n",
              "  <style>\n",
              "    .colab-df-container {\n",
              "      display:flex;\n",
              "      flex-wrap:wrap;\n",
              "      gap: 12px;\n",
              "    }\n",
              "\n",
              "    .colab-df-convert {\n",
              "      background-color: #E8F0FE;\n",
              "      border: none;\n",
              "      border-radius: 50%;\n",
              "      cursor: pointer;\n",
              "      display: none;\n",
              "      fill: #1967D2;\n",
              "      height: 32px;\n",
              "      padding: 0 0 0 0;\n",
              "      width: 32px;\n",
              "    }\n",
              "\n",
              "    .colab-df-convert:hover {\n",
              "      background-color: #E2EBFA;\n",
              "      box-shadow: 0px 1px 2px rgba(60, 64, 67, 0.3), 0px 1px 3px 1px rgba(60, 64, 67, 0.15);\n",
              "      fill: #174EA6;\n",
              "    }\n",
              "\n",
              "    [theme=dark] .colab-df-convert {\n",
              "      background-color: #3B4455;\n",
              "      fill: #D2E3FC;\n",
              "    }\n",
              "\n",
              "    [theme=dark] .colab-df-convert:hover {\n",
              "      background-color: #434B5C;\n",
              "      box-shadow: 0px 1px 3px 1px rgba(0, 0, 0, 0.15);\n",
              "      filter: drop-shadow(0px 1px 2px rgba(0, 0, 0, 0.3));\n",
              "      fill: #FFFFFF;\n",
              "    }\n",
              "  </style>\n",
              "\n",
              "      <script>\n",
              "        const buttonEl =\n",
              "          document.querySelector('#df-3d6b5c43-18e6-4a40-9817-8e438ac9a660 button.colab-df-convert');\n",
              "        buttonEl.style.display =\n",
              "          google.colab.kernel.accessAllowed ? 'block' : 'none';\n",
              "\n",
              "        async function convertToInteractive(key) {\n",
              "          const element = document.querySelector('#df-3d6b5c43-18e6-4a40-9817-8e438ac9a660');\n",
              "          const dataTable =\n",
              "            await google.colab.kernel.invokeFunction('convertToInteractive',\n",
              "                                                     [key], {});\n",
              "          if (!dataTable) return;\n",
              "\n",
              "          const docLinkHtml = 'Like what you see? Visit the ' +\n",
              "            '<a target=\"_blank\" href=https://colab.research.google.com/notebooks/data_table.ipynb>data table notebook</a>'\n",
              "            + ' to learn more about interactive tables.';\n",
              "          element.innerHTML = '';\n",
              "          dataTable['output_type'] = 'display_data';\n",
              "          await google.colab.output.renderOutput(dataTable, element);\n",
              "          const docLink = document.createElement('div');\n",
              "          docLink.innerHTML = docLinkHtml;\n",
              "          element.appendChild(docLink);\n",
              "        }\n",
              "      </script>\n",
              "    </div>\n",
              "  </div>\n",
              "  "
            ]
          },
          "metadata": {},
          "execution_count": 6
        }
      ]
    },
    {
      "cell_type": "code",
      "execution_count": null,
      "id": "aacc500a",
      "metadata": {
        "id": "aacc500a"
      },
      "outputs": [],
      "source": [
        "from sklearn.model_selection import train_test_split\n",
        "X_train, X_test, y_train, y_test = train_test_split(X, y, test_size = 0.2, shuffle=True)\n",
        "X_train, X_val, y_train, y_val = train_test_split(X_train,y_train, test_size = 0.2, shuffle=True)"
      ]
    },
    {
      "cell_type": "code",
      "execution_count": null,
      "id": "dd38fc17",
      "metadata": {
        "id": "dd38fc17"
      },
      "outputs": [],
      "source": [
        "ann = tf.keras.models.Sequential()"
      ]
    },
    {
      "cell_type": "code",
      "execution_count": null,
      "id": "00d26fea",
      "metadata": {
        "id": "00d26fea"
      },
      "outputs": [],
      "source": [
        "ann.add(tf.keras.layers.Dense(units=4, activation='relu'))"
      ]
    },
    {
      "cell_type": "code",
      "execution_count": null,
      "id": "ed2bd26a",
      "metadata": {
        "id": "ed2bd26a"
      },
      "outputs": [],
      "source": [
        "ann.add(tf.keras.layers.Dense(units=6, activation='relu'))"
      ]
    },
    {
      "cell_type": "code",
      "execution_count": null,
      "id": "cc331c0c",
      "metadata": {
        "id": "cc331c0c"
      },
      "outputs": [],
      "source": [
        "ann.add(tf.keras.layers.Dense(units=1))"
      ]
    },
    {
      "cell_type": "code",
      "execution_count": null,
      "id": "deef3691",
      "metadata": {
        "id": "deef3691"
      },
      "outputs": [],
      "source": [
        "ann.compile(optimizer = 'adam', loss = 'mean_squared_error',metrics=['MeanSquaredLogarithmicError'])"
      ]
    },
    {
      "cell_type": "code",
      "execution_count": null,
      "id": "bd8a8dd0",
      "metadata": {
        "id": "bd8a8dd0"
      },
      "outputs": [],
      "source": [
        "# convert data\n",
        "padi['Provinsi']=padi['Provinsi'].fillna(padi['Provinsi'].mode()[0])"
      ]
    },
    {
      "cell_type": "code",
      "execution_count": null,
      "id": "d68547e5",
      "metadata": {
        "colab": {
          "base_uri": "https://localhost:8080/"
        },
        "id": "d68547e5",
        "outputId": "171f1abf-d0d8-4cad-a9c8-88519b103f61"
      },
      "outputs": [
        {
          "output_type": "stream",
          "name": "stdout",
          "text": [
            "<class 'pandas.core.frame.DataFrame'>\n",
            "RangeIndex: 224 entries, 0 to 223\n",
            "Data columns (total 7 columns):\n",
            " #   Column          Non-Null Count  Dtype  \n",
            "---  ------          --------------  -----  \n",
            " 0   Provinsi        224 non-null    int64  \n",
            " 1   Tahun           224 non-null    int64  \n",
            " 2   Produksi        224 non-null    float64\n",
            " 3   Luas Panen      224 non-null    float64\n",
            " 4   Curah hujan     224 non-null    float64\n",
            " 5   Kelembapan      224 non-null    float64\n",
            " 6   Suhu rata-rata  224 non-null    float64\n",
            "dtypes: float64(5), int64(2)\n",
            "memory usage: 12.4 KB\n"
          ]
        }
      ],
      "source": [
        "padi.info()"
      ]
    },
    {
      "cell_type": "code",
      "source": [
        "from sklearn.preprocessing import LabelEncoder\n",
        "encode = LabelEncoder()\n",
        "\n",
        "padi['Provinsi'] = encode.fit_transform(padi['Provinsi'])"
      ],
      "metadata": {
        "id": "C4yQt7oGwiHO"
      },
      "id": "C4yQt7oGwiHO",
      "execution_count": null,
      "outputs": []
    },
    {
      "cell_type": "code",
      "source": [
        "print(padi)"
      ],
      "metadata": {
        "colab": {
          "base_uri": "https://localhost:8080/"
        },
        "id": "Izd6kt7Xwtka",
        "outputId": "18fb38e9-6ca5-44b8-baf6-ac48cc8a3646"
      },
      "id": "Izd6kt7Xwtka",
      "execution_count": null,
      "outputs": [
        {
          "output_type": "stream",
          "name": "stdout",
          "text": [
            "     Provinsi  Tahun    Produksi  Luas Panen  Curah hujan  Kelembapan  \\\n",
            "0           0   1993  1329536.00   323589.00       1627.0       82.00   \n",
            "1           0   1994  1299699.00   329041.00       1521.0       82.12   \n",
            "2           0   1995  1382905.00   339253.00       1476.0       82.72   \n",
            "3           0   1996  1419128.00   348223.00       1557.0       83.00   \n",
            "4           0   1997  1368074.00   337561.00       1339.0       82.46   \n",
            "..        ...    ...         ...         ...          ...         ...   \n",
            "219         3   2016  3831923.00   390799.00       2317.6       79.40   \n",
            "220         3   2017  4090654.00   396559.00       1825.1       77.04   \n",
            "221         3   2018  2488641.91   511940.93       1385.8       76.05   \n",
            "222         3   2019  2164089.33   464103.42       1706.4       78.03   \n",
            "223         3   2020  2604913.29   545149.05       2211.3       75.80   \n",
            "\n",
            "     Suhu rata-rata  \n",
            "0             26.06  \n",
            "1             26.92  \n",
            "2             26.27  \n",
            "3             26.08  \n",
            "4             26.31  \n",
            "..              ...  \n",
            "219           26.45  \n",
            "220           26.36  \n",
            "221           25.50  \n",
            "222           27.23  \n",
            "223           24.58  \n",
            "\n",
            "[224 rows x 7 columns]\n"
          ]
        }
      ]
    },
    {
      "cell_type": "code",
      "source": [
        "# deskripsi data dengan bentuk tampilan dibalik dari umumnya\n",
        "padi.describe().transpose()"
      ],
      "metadata": {
        "colab": {
          "base_uri": "https://localhost:8080/",
          "height": 269
        },
        "id": "xRJY7lpOyrmx",
        "outputId": "786dbab0-35f7-48ad-9359-e7430a5bc44f"
      },
      "id": "xRJY7lpOyrmx",
      "execution_count": null,
      "outputs": [
        {
          "output_type": "execute_result",
          "data": {
            "text/plain": [
              "                count          mean           std       min          25%  \\\n",
              "Provinsi        224.0  3.500000e+00  2.296420e+00      0.00       1.7500   \n",
              "Tahun           224.0  2.006500e+03  8.095838e+00   1993.00    1999.7500   \n",
              "Produksi        224.0  1.679701e+06  1.161387e+06  42938.00  548857.0000   \n",
              "Luas Panen      224.0  3.743500e+05  2.327512e+05  63142.04  146919.5000   \n",
              "Curah hujan     224.0  2.452491e+03  1.031973e+03    222.50    1703.5250   \n",
              "Kelembapan      224.0  8.094871e+01  4.878680e+00     54.20      78.9750   \n",
              "Suhu rata-rata  224.0  2.680196e+01  1.197041e+00     22.19      26.1775   \n",
              "\n",
              "                        50%         75%         max  \n",
              "Provinsi              3.500        5.25        7.00  \n",
              "Tahun              2006.500     2013.25     2020.00  \n",
              "Produksi        1667773.000  2436850.75  4881089.00  \n",
              "Luas Panen       373551.500   514570.25   872737.00  \n",
              "Curah hujan        2315.700     3039.70     5522.00  \n",
              "Kelembapan           82.375       84.00       90.60  \n",
              "Suhu rata-rata       26.730       27.20       29.85  "
            ],
            "text/html": [
              "\n",
              "  <div id=\"df-73578e6a-d81e-43f9-8c72-daa214a1391b\">\n",
              "    <div class=\"colab-df-container\">\n",
              "      <div>\n",
              "<style scoped>\n",
              "    .dataframe tbody tr th:only-of-type {\n",
              "        vertical-align: middle;\n",
              "    }\n",
              "\n",
              "    .dataframe tbody tr th {\n",
              "        vertical-align: top;\n",
              "    }\n",
              "\n",
              "    .dataframe thead th {\n",
              "        text-align: right;\n",
              "    }\n",
              "</style>\n",
              "<table border=\"1\" class=\"dataframe\">\n",
              "  <thead>\n",
              "    <tr style=\"text-align: right;\">\n",
              "      <th></th>\n",
              "      <th>count</th>\n",
              "      <th>mean</th>\n",
              "      <th>std</th>\n",
              "      <th>min</th>\n",
              "      <th>25%</th>\n",
              "      <th>50%</th>\n",
              "      <th>75%</th>\n",
              "      <th>max</th>\n",
              "    </tr>\n",
              "  </thead>\n",
              "  <tbody>\n",
              "    <tr>\n",
              "      <th>Provinsi</th>\n",
              "      <td>224.0</td>\n",
              "      <td>3.500000e+00</td>\n",
              "      <td>2.296420e+00</td>\n",
              "      <td>0.00</td>\n",
              "      <td>1.7500</td>\n",
              "      <td>3.500</td>\n",
              "      <td>5.25</td>\n",
              "      <td>7.00</td>\n",
              "    </tr>\n",
              "    <tr>\n",
              "      <th>Tahun</th>\n",
              "      <td>224.0</td>\n",
              "      <td>2.006500e+03</td>\n",
              "      <td>8.095838e+00</td>\n",
              "      <td>1993.00</td>\n",
              "      <td>1999.7500</td>\n",
              "      <td>2006.500</td>\n",
              "      <td>2013.25</td>\n",
              "      <td>2020.00</td>\n",
              "    </tr>\n",
              "    <tr>\n",
              "      <th>Produksi</th>\n",
              "      <td>224.0</td>\n",
              "      <td>1.679701e+06</td>\n",
              "      <td>1.161387e+06</td>\n",
              "      <td>42938.00</td>\n",
              "      <td>548857.0000</td>\n",
              "      <td>1667773.000</td>\n",
              "      <td>2436850.75</td>\n",
              "      <td>4881089.00</td>\n",
              "    </tr>\n",
              "    <tr>\n",
              "      <th>Luas Panen</th>\n",
              "      <td>224.0</td>\n",
              "      <td>3.743500e+05</td>\n",
              "      <td>2.327512e+05</td>\n",
              "      <td>63142.04</td>\n",
              "      <td>146919.5000</td>\n",
              "      <td>373551.500</td>\n",
              "      <td>514570.25</td>\n",
              "      <td>872737.00</td>\n",
              "    </tr>\n",
              "    <tr>\n",
              "      <th>Curah hujan</th>\n",
              "      <td>224.0</td>\n",
              "      <td>2.452491e+03</td>\n",
              "      <td>1.031973e+03</td>\n",
              "      <td>222.50</td>\n",
              "      <td>1703.5250</td>\n",
              "      <td>2315.700</td>\n",
              "      <td>3039.70</td>\n",
              "      <td>5522.00</td>\n",
              "    </tr>\n",
              "    <tr>\n",
              "      <th>Kelembapan</th>\n",
              "      <td>224.0</td>\n",
              "      <td>8.094871e+01</td>\n",
              "      <td>4.878680e+00</td>\n",
              "      <td>54.20</td>\n",
              "      <td>78.9750</td>\n",
              "      <td>82.375</td>\n",
              "      <td>84.00</td>\n",
              "      <td>90.60</td>\n",
              "    </tr>\n",
              "    <tr>\n",
              "      <th>Suhu rata-rata</th>\n",
              "      <td>224.0</td>\n",
              "      <td>2.680196e+01</td>\n",
              "      <td>1.197041e+00</td>\n",
              "      <td>22.19</td>\n",
              "      <td>26.1775</td>\n",
              "      <td>26.730</td>\n",
              "      <td>27.20</td>\n",
              "      <td>29.85</td>\n",
              "    </tr>\n",
              "  </tbody>\n",
              "</table>\n",
              "</div>\n",
              "      <button class=\"colab-df-convert\" onclick=\"convertToInteractive('df-73578e6a-d81e-43f9-8c72-daa214a1391b')\"\n",
              "              title=\"Convert this dataframe to an interactive table.\"\n",
              "              style=\"display:none;\">\n",
              "        \n",
              "  <svg xmlns=\"http://www.w3.org/2000/svg\" height=\"24px\"viewBox=\"0 0 24 24\"\n",
              "       width=\"24px\">\n",
              "    <path d=\"M0 0h24v24H0V0z\" fill=\"none\"/>\n",
              "    <path d=\"M18.56 5.44l.94 2.06.94-2.06 2.06-.94-2.06-.94-.94-2.06-.94 2.06-2.06.94zm-11 1L8.5 8.5l.94-2.06 2.06-.94-2.06-.94L8.5 2.5l-.94 2.06-2.06.94zm10 10l.94 2.06.94-2.06 2.06-.94-2.06-.94-.94-2.06-.94 2.06-2.06.94z\"/><path d=\"M17.41 7.96l-1.37-1.37c-.4-.4-.92-.59-1.43-.59-.52 0-1.04.2-1.43.59L10.3 9.45l-7.72 7.72c-.78.78-.78 2.05 0 2.83L4 21.41c.39.39.9.59 1.41.59.51 0 1.02-.2 1.41-.59l7.78-7.78 2.81-2.81c.8-.78.8-2.07 0-2.86zM5.41 20L4 18.59l7.72-7.72 1.47 1.35L5.41 20z\"/>\n",
              "  </svg>\n",
              "      </button>\n",
              "      \n",
              "  <style>\n",
              "    .colab-df-container {\n",
              "      display:flex;\n",
              "      flex-wrap:wrap;\n",
              "      gap: 12px;\n",
              "    }\n",
              "\n",
              "    .colab-df-convert {\n",
              "      background-color: #E8F0FE;\n",
              "      border: none;\n",
              "      border-radius: 50%;\n",
              "      cursor: pointer;\n",
              "      display: none;\n",
              "      fill: #1967D2;\n",
              "      height: 32px;\n",
              "      padding: 0 0 0 0;\n",
              "      width: 32px;\n",
              "    }\n",
              "\n",
              "    .colab-df-convert:hover {\n",
              "      background-color: #E2EBFA;\n",
              "      box-shadow: 0px 1px 2px rgba(60, 64, 67, 0.3), 0px 1px 3px 1px rgba(60, 64, 67, 0.15);\n",
              "      fill: #174EA6;\n",
              "    }\n",
              "\n",
              "    [theme=dark] .colab-df-convert {\n",
              "      background-color: #3B4455;\n",
              "      fill: #D2E3FC;\n",
              "    }\n",
              "\n",
              "    [theme=dark] .colab-df-convert:hover {\n",
              "      background-color: #434B5C;\n",
              "      box-shadow: 0px 1px 3px 1px rgba(0, 0, 0, 0.15);\n",
              "      filter: drop-shadow(0px 1px 2px rgba(0, 0, 0, 0.3));\n",
              "      fill: #FFFFFF;\n",
              "    }\n",
              "  </style>\n",
              "\n",
              "      <script>\n",
              "        const buttonEl =\n",
              "          document.querySelector('#df-73578e6a-d81e-43f9-8c72-daa214a1391b button.colab-df-convert');\n",
              "        buttonEl.style.display =\n",
              "          google.colab.kernel.accessAllowed ? 'block' : 'none';\n",
              "\n",
              "        async function convertToInteractive(key) {\n",
              "          const element = document.querySelector('#df-73578e6a-d81e-43f9-8c72-daa214a1391b');\n",
              "          const dataTable =\n",
              "            await google.colab.kernel.invokeFunction('convertToInteractive',\n",
              "                                                     [key], {});\n",
              "          if (!dataTable) return;\n",
              "\n",
              "          const docLinkHtml = 'Like what you see? Visit the ' +\n",
              "            '<a target=\"_blank\" href=https://colab.research.google.com/notebooks/data_table.ipynb>data table notebook</a>'\n",
              "            + ' to learn more about interactive tables.';\n",
              "          element.innerHTML = '';\n",
              "          dataTable['output_type'] = 'display_data';\n",
              "          await google.colab.output.renderOutput(dataTable, element);\n",
              "          const docLink = document.createElement('div');\n",
              "          docLink.innerHTML = docLinkHtml;\n",
              "          element.appendChild(docLink);\n",
              "        }\n",
              "      </script>\n",
              "    </div>\n",
              "  </div>\n",
              "  "
            ]
          },
          "metadata": {},
          "execution_count": 27
        }
      ]
    },
    {
      "cell_type": "code",
      "source": [
        "padi.shape"
      ],
      "metadata": {
        "colab": {
          "base_uri": "https://localhost:8080/"
        },
        "id": "HLkiOl2NyxbJ",
        "outputId": "3b357d77-9884-41fd-9b0a-0caae4343326"
      },
      "id": "HLkiOl2NyxbJ",
      "execution_count": null,
      "outputs": [
        {
          "output_type": "execute_result",
          "data": {
            "text/plain": [
              "(224, 7)"
            ]
          },
          "metadata": {},
          "execution_count": 28
        }
      ]
    },
    {
      "cell_type": "code",
      "source": [
        "# penentuan variabel X dan y\n",
        "X = padi.drop('Provinsi',axis=1)\n",
        "y = padi['Provinsi']"
      ],
      "metadata": {
        "id": "YWvzCMv9y5lv"
      },
      "id": "YWvzCMv9y5lv",
      "execution_count": null,
      "outputs": []
    },
    {
      "cell_type": "code",
      "source": [
        "# pemisahan data training dan data testing\n",
        "\n",
        "from sklearn.model_selection import train_test_split\n",
        "\n",
        "X_train, X_test, y_train, y_test = train_test_split(X, y)"
      ],
      "metadata": {
        "id": "-moLYCXvw0I3"
      },
      "id": "-moLYCXvw0I3",
      "execution_count": null,
      "outputs": []
    },
    {
      "cell_type": "markdown",
      "source": [
        "DATA PREPOCESSING"
      ],
      "metadata": {
        "id": "6L30f_Fxx-lf"
      },
      "id": "6L30f_Fxx-lf"
    },
    {
      "cell_type": "code",
      "source": [
        "from sklearn.preprocessing import StandardScaler\n",
        "\n",
        "scaler = StandardScaler()"
      ],
      "metadata": {
        "id": "rlehXqE4xWt8"
      },
      "id": "rlehXqE4xWt8",
      "execution_count": null,
      "outputs": []
    },
    {
      "cell_type": "code",
      "source": [
        "# fitting pada data training\n",
        "\n",
        "scaler.fit(X_train)"
      ],
      "metadata": {
        "colab": {
          "base_uri": "https://localhost:8080/"
        },
        "id": "qACuD8YFx5kI",
        "outputId": "80078225-e483-4708-bad0-a5344b542182"
      },
      "id": "qACuD8YFx5kI",
      "execution_count": null,
      "outputs": [
        {
          "output_type": "execute_result",
          "data": {
            "text/plain": [
              "StandardScaler()"
            ]
          },
          "metadata": {},
          "execution_count": 32
        }
      ]
    },
    {
      "cell_type": "code",
      "source": [
        "# standarisasi\n",
        "StandardScaler(copy=True, with_mean=True, with_std=True)\n",
        "\n",
        "# transformasi data\n",
        "X_train = scaler.transform(X_train)\n",
        "X_test = scaler.transform(X_test)"
      ],
      "metadata": {
        "id": "2yHKjF5LzIZE"
      },
      "id": "2yHKjF5LzIZE",
      "execution_count": null,
      "outputs": []
    },
    {
      "cell_type": "markdown",
      "source": [
        "Training Model"
      ],
      "metadata": {
        "id": "7e0boJsmzLTv"
      },
      "id": "7e0boJsmzLTv"
    },
    {
      "cell_type": "code",
      "source": [
        "from sklearn.neural_network import MLPClassifier"
      ],
      "metadata": {
        "id": "pgioabxezNXx"
      },
      "id": "pgioabxezNXx",
      "execution_count": null,
      "outputs": []
    },
    {
      "cell_type": "code",
      "source": [
        "# pada parameter hidden_layer_sizes, tentukan jumlah neuron yang diperlukan pada setiap layer.\n",
        "# Pada contoh ini hanya digunakan 3 buah layer dengan jumlah iterasi maksimal sebanyak 500 kali\n",
        "\n",
        "mlp = MLPClassifier(hidden_layer_sizes=(13,13,13),max_iter=500)\n",
        "\n",
        "\n",
        "# fitting data tarining terhadap mlp\n",
        "mlp.fit(X_train,y_train)"
      ],
      "metadata": {
        "colab": {
          "base_uri": "https://localhost:8080/"
        },
        "id": "0ZwxhZBAzQw7",
        "outputId": "2c0f4e66-a2ab-40f9-81bf-151a2fea8e1b"
      },
      "id": "0ZwxhZBAzQw7",
      "execution_count": null,
      "outputs": [
        {
          "output_type": "stream",
          "name": "stderr",
          "text": [
            "/usr/local/lib/python3.8/dist-packages/sklearn/neural_network/_multilayer_perceptron.py:692: ConvergenceWarning: Stochastic Optimizer: Maximum iterations (500) reached and the optimization hasn't converged yet.\n",
            "  warnings.warn(\n"
          ]
        },
        {
          "output_type": "execute_result",
          "data": {
            "text/plain": [
              "MLPClassifier(hidden_layer_sizes=(13, 13, 13), max_iter=500)"
            ]
          },
          "metadata": {},
          "execution_count": 35
        }
      ]
    },
    {
      "cell_type": "code",
      "source": [
        "from sklearn.metrics import confusion_matrix\n",
        "predictions = mlp.predict(X_test)\n",
        "\n",
        "print(confusion_matrix(y_test,predictions))"
      ],
      "metadata": {
        "colab": {
          "base_uri": "https://localhost:8080/"
        },
        "id": "DaFMKuPbzT6N",
        "outputId": "3eb4e519-c878-4033-b36c-329389664236"
      },
      "id": "DaFMKuPbzT6N",
      "execution_count": null,
      "outputs": [
        {
          "output_type": "stream",
          "name": "stdout",
          "text": [
            "[[6 0 0 0 0 0 0 0]\n",
            " [0 6 1 0 4 0 0 0]\n",
            " [0 2 3 0 5 0 0 0]\n",
            " [0 0 0 3 0 0 0 1]\n",
            " [0 4 1 0 1 0 0 0]\n",
            " [0 0 0 0 0 4 0 0]\n",
            " [0 0 0 3 0 0 2 3]\n",
            " [0 0 0 1 0 0 0 6]]\n"
          ]
        }
      ]
    },
    {
      "cell_type": "code",
      "source": [
        "from sklearn.metrics import classification_report\n",
        "print(classification_report(y_test,predictions))"
      ],
      "metadata": {
        "colab": {
          "base_uri": "https://localhost:8080/"
        },
        "id": "jXWA8AQa0EHO",
        "outputId": "ccab523a-a19f-40ec-9e1e-7ecd9d7b5764"
      },
      "id": "jXWA8AQa0EHO",
      "execution_count": null,
      "outputs": [
        {
          "output_type": "stream",
          "name": "stdout",
          "text": [
            "              precision    recall  f1-score   support\n",
            "\n",
            "           0       1.00      1.00      1.00         6\n",
            "           1       0.50      0.55      0.52        11\n",
            "           2       0.60      0.30      0.40        10\n",
            "           3       0.43      0.75      0.55         4\n",
            "           4       0.10      0.17      0.12         6\n",
            "           5       1.00      1.00      1.00         4\n",
            "           6       1.00      0.25      0.40         8\n",
            "           7       0.60      0.86      0.71         7\n",
            "\n",
            "    accuracy                           0.55        56\n",
            "   macro avg       0.65      0.61      0.59        56\n",
            "weighted avg       0.64      0.55      0.55        56\n",
            "\n"
          ]
        }
      ]
    },
    {
      "cell_type": "code",
      "source": [
        "from keras import backend as K\n",
        "X_train1 = K.cast_to_floatx(X_train)\n",
        "y_train1 = K.cast_to_floatx(y_train)"
      ],
      "metadata": {
        "id": "X8j8HdtDVFQN"
      },
      "id": "X8j8HdtDVFQN",
      "execution_count": null,
      "outputs": []
    },
    {
      "cell_type": "code",
      "source": [
        "#Fitting ANN\n",
        "model = ann.fit(X_train1,y_train1,batch_size=32,epochs = 100)"
      ],
      "metadata": {
        "colab": {
          "base_uri": "https://localhost:8080/"
        },
        "id": "DAbjfMuo0ZVI",
        "outputId": "81c2e666-5862-4886-a6e8-db1a500488c5"
      },
      "id": "DAbjfMuo0ZVI",
      "execution_count": null,
      "outputs": [
        {
          "output_type": "stream",
          "name": "stdout",
          "text": [
            "Epoch 1/100\n",
            "6/6 [==============================] - 0s 6ms/step - loss: 10.8812 - mean_squared_logarithmic_error: 0.8112\n",
            "Epoch 2/100\n",
            "6/6 [==============================] - 0s 7ms/step - loss: 10.5121 - mean_squared_logarithmic_error: 0.7701\n",
            "Epoch 3/100\n",
            "6/6 [==============================] - 0s 7ms/step - loss: 10.1306 - mean_squared_logarithmic_error: 0.7295\n",
            "Epoch 4/100\n",
            "6/6 [==============================] - 0s 7ms/step - loss: 9.7539 - mean_squared_logarithmic_error: 0.6920\n",
            "Epoch 5/100\n",
            "6/6 [==============================] - 0s 8ms/step - loss: 9.3818 - mean_squared_logarithmic_error: 0.6577\n",
            "Epoch 6/100\n",
            "6/6 [==============================] - 0s 6ms/step - loss: 8.9976 - mean_squared_logarithmic_error: 0.6231\n",
            "Epoch 7/100\n",
            "6/6 [==============================] - 0s 6ms/step - loss: 8.6291 - mean_squared_logarithmic_error: 0.5918\n",
            "Epoch 8/100\n",
            "6/6 [==============================] - 0s 6ms/step - loss: 8.2650 - mean_squared_logarithmic_error: 0.5629\n",
            "Epoch 9/100\n",
            "6/6 [==============================] - 0s 9ms/step - loss: 7.9123 - mean_squared_logarithmic_error: 0.5363\n",
            "Epoch 10/100\n",
            "6/6 [==============================] - 0s 8ms/step - loss: 7.5469 - mean_squared_logarithmic_error: 0.5103\n",
            "Epoch 11/100\n",
            "6/6 [==============================] - 0s 6ms/step - loss: 7.2280 - mean_squared_logarithmic_error: 0.4887\n",
            "Epoch 12/100\n",
            "6/6 [==============================] - 0s 5ms/step - loss: 6.9086 - mean_squared_logarithmic_error: 0.4689\n",
            "Epoch 13/100\n",
            "6/6 [==============================] - 0s 13ms/step - loss: 6.5930 - mean_squared_logarithmic_error: 0.4488\n",
            "Epoch 14/100\n",
            "6/6 [==============================] - 0s 15ms/step - loss: 6.3140 - mean_squared_logarithmic_error: 0.4344\n",
            "Epoch 15/100\n",
            "6/6 [==============================] - 0s 15ms/step - loss: 6.0315 - mean_squared_logarithmic_error: 0.4190\n",
            "Epoch 16/100\n",
            "6/6 [==============================] - 0s 6ms/step - loss: 5.7781 - mean_squared_logarithmic_error: 0.4064\n",
            "Epoch 17/100\n",
            "6/6 [==============================] - 0s 9ms/step - loss: 5.5373 - mean_squared_logarithmic_error: 0.3949\n",
            "Epoch 18/100\n",
            "6/6 [==============================] - 0s 8ms/step - loss: 5.3040 - mean_squared_logarithmic_error: 0.3848\n",
            "Epoch 19/100\n",
            "6/6 [==============================] - 0s 4ms/step - loss: 5.0983 - mean_squared_logarithmic_error: 0.3764\n",
            "Epoch 20/100\n",
            "6/6 [==============================] - 0s 4ms/step - loss: 4.8945 - mean_squared_logarithmic_error: 0.3687\n",
            "Epoch 21/100\n",
            "6/6 [==============================] - 0s 4ms/step - loss: 4.7304 - mean_squared_logarithmic_error: 0.3632\n",
            "Epoch 22/100\n",
            "6/6 [==============================] - 0s 5ms/step - loss: 4.5745 - mean_squared_logarithmic_error: 0.3582\n",
            "Epoch 23/100\n",
            "6/6 [==============================] - 0s 4ms/step - loss: 4.4195 - mean_squared_logarithmic_error: 0.3528\n",
            "Epoch 24/100\n",
            "6/6 [==============================] - 0s 5ms/step - loss: 4.3057 - mean_squared_logarithmic_error: 0.3498\n",
            "Epoch 25/100\n",
            "6/6 [==============================] - 0s 4ms/step - loss: 4.1828 - mean_squared_logarithmic_error: 0.3465\n",
            "Epoch 26/100\n",
            "6/6 [==============================] - 0s 13ms/step - loss: 4.0821 - mean_squared_logarithmic_error: 0.3436\n",
            "Epoch 27/100\n",
            "6/6 [==============================] - 0s 6ms/step - loss: 3.9803 - mean_squared_logarithmic_error: 0.3406\n",
            "Epoch 28/100\n",
            "6/6 [==============================] - 0s 6ms/step - loss: 3.8915 - mean_squared_logarithmic_error: 0.3383\n",
            "Epoch 29/100\n",
            "6/6 [==============================] - 0s 6ms/step - loss: 3.8073 - mean_squared_logarithmic_error: 0.3360\n",
            "Epoch 30/100\n",
            "6/6 [==============================] - 0s 6ms/step - loss: 3.7293 - mean_squared_logarithmic_error: 0.3340\n",
            "Epoch 31/100\n",
            "6/6 [==============================] - 0s 6ms/step - loss: 3.6544 - mean_squared_logarithmic_error: 0.3321\n",
            "Epoch 32/100\n",
            "6/6 [==============================] - 0s 10ms/step - loss: 3.5948 - mean_squared_logarithmic_error: 0.3310\n",
            "Epoch 33/100\n",
            "6/6 [==============================] - 0s 7ms/step - loss: 3.5380 - mean_squared_logarithmic_error: 0.3296\n",
            "Epoch 34/100\n",
            "6/6 [==============================] - 0s 6ms/step - loss: 3.4813 - mean_squared_logarithmic_error: 0.3283\n",
            "Epoch 35/100\n",
            "6/6 [==============================] - 0s 6ms/step - loss: 3.4407 - mean_squared_logarithmic_error: 0.3279\n",
            "Epoch 36/100\n",
            "6/6 [==============================] - 0s 8ms/step - loss: 3.3948 - mean_squared_logarithmic_error: 0.3272\n",
            "Epoch 37/100\n",
            "6/6 [==============================] - 0s 5ms/step - loss: 3.3507 - mean_squared_logarithmic_error: 0.3259\n",
            "Epoch 38/100\n",
            "6/6 [==============================] - 0s 10ms/step - loss: 3.3216 - mean_squared_logarithmic_error: 0.3253\n",
            "Epoch 39/100\n",
            "6/6 [==============================] - 0s 6ms/step - loss: 3.2857 - mean_squared_logarithmic_error: 0.3245\n",
            "Epoch 40/100\n",
            "6/6 [==============================] - 0s 6ms/step - loss: 3.2571 - mean_squared_logarithmic_error: 0.3239\n",
            "Epoch 41/100\n",
            "6/6 [==============================] - 0s 6ms/step - loss: 3.2304 - mean_squared_logarithmic_error: 0.3233\n",
            "Epoch 42/100\n",
            "6/6 [==============================] - 0s 10ms/step - loss: 3.2087 - mean_squared_logarithmic_error: 0.3228\n",
            "Epoch 43/100\n",
            "6/6 [==============================] - 0s 8ms/step - loss: 3.1834 - mean_squared_logarithmic_error: 0.3218\n",
            "Epoch 44/100\n",
            "6/6 [==============================] - 0s 13ms/step - loss: 3.1609 - mean_squared_logarithmic_error: 0.3207\n",
            "Epoch 45/100\n",
            "6/6 [==============================] - 0s 9ms/step - loss: 3.1414 - mean_squared_logarithmic_error: 0.3200\n",
            "Epoch 46/100\n",
            "6/6 [==============================] - 0s 8ms/step - loss: 3.1217 - mean_squared_logarithmic_error: 0.3191\n",
            "Epoch 47/100\n",
            "6/6 [==============================] - 0s 8ms/step - loss: 3.1008 - mean_squared_logarithmic_error: 0.3180\n",
            "Epoch 48/100\n",
            "6/6 [==============================] - 0s 12ms/step - loss: 3.0816 - mean_squared_logarithmic_error: 0.3171\n",
            "Epoch 49/100\n",
            "6/6 [==============================] - 0s 6ms/step - loss: 3.0609 - mean_squared_logarithmic_error: 0.3165\n",
            "Epoch 50/100\n",
            "6/6 [==============================] - 0s 5ms/step - loss: 3.0441 - mean_squared_logarithmic_error: 0.3159\n",
            "Epoch 51/100\n",
            "6/6 [==============================] - 0s 5ms/step - loss: 3.0279 - mean_squared_logarithmic_error: 0.3151\n",
            "Epoch 52/100\n",
            "6/6 [==============================] - 0s 6ms/step - loss: 3.0118 - mean_squared_logarithmic_error: 0.3143\n",
            "Epoch 53/100\n",
            "6/6 [==============================] - 0s 7ms/step - loss: 2.9975 - mean_squared_logarithmic_error: 0.3133\n",
            "Epoch 54/100\n",
            "6/6 [==============================] - 0s 8ms/step - loss: 2.9816 - mean_squared_logarithmic_error: 0.3123\n",
            "Epoch 55/100\n",
            "6/6 [==============================] - 0s 7ms/step - loss: 2.9691 - mean_squared_logarithmic_error: 0.3116\n",
            "Epoch 56/100\n",
            "6/6 [==============================] - 0s 6ms/step - loss: 2.9564 - mean_squared_logarithmic_error: 0.3109\n",
            "Epoch 57/100\n",
            "6/6 [==============================] - 0s 6ms/step - loss: 2.9455 - mean_squared_logarithmic_error: 0.3102\n",
            "Epoch 58/100\n",
            "6/6 [==============================] - 0s 6ms/step - loss: 2.9325 - mean_squared_logarithmic_error: 0.3093\n",
            "Epoch 59/100\n",
            "6/6 [==============================] - 0s 4ms/step - loss: 2.9210 - mean_squared_logarithmic_error: 0.3088\n",
            "Epoch 60/100\n",
            "6/6 [==============================] - 0s 4ms/step - loss: 2.9098 - mean_squared_logarithmic_error: 0.3084\n",
            "Epoch 61/100\n",
            "6/6 [==============================] - 0s 5ms/step - loss: 2.9000 - mean_squared_logarithmic_error: 0.3077\n",
            "Epoch 62/100\n",
            "6/6 [==============================] - 0s 4ms/step - loss: 2.8885 - mean_squared_logarithmic_error: 0.3068\n",
            "Epoch 63/100\n",
            "6/6 [==============================] - 0s 4ms/step - loss: 2.8797 - mean_squared_logarithmic_error: 0.3063\n",
            "Epoch 64/100\n",
            "6/6 [==============================] - 0s 4ms/step - loss: 2.8684 - mean_squared_logarithmic_error: 0.3058\n",
            "Epoch 65/100\n",
            "6/6 [==============================] - 0s 6ms/step - loss: 2.8624 - mean_squared_logarithmic_error: 0.3061\n",
            "Epoch 66/100\n",
            "6/6 [==============================] - 0s 4ms/step - loss: 2.8540 - mean_squared_logarithmic_error: 0.3059\n",
            "Epoch 67/100\n",
            "6/6 [==============================] - 0s 5ms/step - loss: 2.8459 - mean_squared_logarithmic_error: 0.3054\n",
            "Epoch 68/100\n",
            "6/6 [==============================] - 0s 5ms/step - loss: 2.8353 - mean_squared_logarithmic_error: 0.3048\n",
            "Epoch 69/100\n",
            "6/6 [==============================] - 0s 4ms/step - loss: 2.8290 - mean_squared_logarithmic_error: 0.3048\n",
            "Epoch 70/100\n",
            "6/6 [==============================] - 0s 5ms/step - loss: 2.8204 - mean_squared_logarithmic_error: 0.3043\n",
            "Epoch 71/100\n",
            "6/6 [==============================] - 0s 4ms/step - loss: 2.8134 - mean_squared_logarithmic_error: 0.3035\n",
            "Epoch 72/100\n",
            "6/6 [==============================] - 0s 5ms/step - loss: 2.8057 - mean_squared_logarithmic_error: 0.3028\n",
            "Epoch 73/100\n",
            "6/6 [==============================] - 0s 4ms/step - loss: 2.7997 - mean_squared_logarithmic_error: 0.3022\n",
            "Epoch 74/100\n",
            "6/6 [==============================] - 0s 4ms/step - loss: 2.7927 - mean_squared_logarithmic_error: 0.3017\n",
            "Epoch 75/100\n",
            "6/6 [==============================] - 0s 6ms/step - loss: 2.7859 - mean_squared_logarithmic_error: 0.3013\n",
            "Epoch 76/100\n",
            "6/6 [==============================] - 0s 4ms/step - loss: 2.7799 - mean_squared_logarithmic_error: 0.3010\n",
            "Epoch 77/100\n",
            "6/6 [==============================] - 0s 4ms/step - loss: 2.7749 - mean_squared_logarithmic_error: 0.3007\n",
            "Epoch 78/100\n",
            "6/6 [==============================] - 0s 6ms/step - loss: 2.7686 - mean_squared_logarithmic_error: 0.3002\n",
            "Epoch 79/100\n",
            "6/6 [==============================] - 0s 4ms/step - loss: 2.7631 - mean_squared_logarithmic_error: 0.2996\n",
            "Epoch 80/100\n",
            "6/6 [==============================] - 0s 6ms/step - loss: 2.7582 - mean_squared_logarithmic_error: 0.2992\n",
            "Epoch 81/100\n",
            "6/6 [==============================] - 0s 5ms/step - loss: 2.7535 - mean_squared_logarithmic_error: 0.2987\n",
            "Epoch 82/100\n",
            "6/6 [==============================] - 0s 6ms/step - loss: 2.7477 - mean_squared_logarithmic_error: 0.2984\n",
            "Epoch 83/100\n",
            "6/6 [==============================] - 0s 6ms/step - loss: 2.7420 - mean_squared_logarithmic_error: 0.2981\n",
            "Epoch 84/100\n",
            "6/6 [==============================] - 0s 5ms/step - loss: 2.7359 - mean_squared_logarithmic_error: 0.2979\n",
            "Epoch 85/100\n",
            "6/6 [==============================] - 0s 7ms/step - loss: 2.7285 - mean_squared_logarithmic_error: 0.2977\n",
            "Epoch 86/100\n",
            "6/6 [==============================] - 0s 5ms/step - loss: 2.7240 - mean_squared_logarithmic_error: 0.2977\n",
            "Epoch 87/100\n",
            "6/6 [==============================] - 0s 5ms/step - loss: 2.7185 - mean_squared_logarithmic_error: 0.2973\n",
            "Epoch 88/100\n",
            "6/6 [==============================] - 0s 6ms/step - loss: 2.7153 - mean_squared_logarithmic_error: 0.2969\n",
            "Epoch 89/100\n",
            "6/6 [==============================] - 0s 4ms/step - loss: 2.7098 - mean_squared_logarithmic_error: 0.2966\n",
            "Epoch 90/100\n",
            "6/6 [==============================] - 0s 4ms/step - loss: 2.7048 - mean_squared_logarithmic_error: 0.2964\n",
            "Epoch 91/100\n",
            "6/6 [==============================] - 0s 4ms/step - loss: 2.7002 - mean_squared_logarithmic_error: 0.2960\n",
            "Epoch 92/100\n",
            "6/6 [==============================] - 0s 5ms/step - loss: 2.6974 - mean_squared_logarithmic_error: 0.2959\n",
            "Epoch 93/100\n",
            "6/6 [==============================] - 0s 4ms/step - loss: 2.6916 - mean_squared_logarithmic_error: 0.2958\n",
            "Epoch 94/100\n",
            "6/6 [==============================] - 0s 5ms/step - loss: 2.6873 - mean_squared_logarithmic_error: 0.2954\n",
            "Epoch 95/100\n",
            "6/6 [==============================] - 0s 5ms/step - loss: 2.6842 - mean_squared_logarithmic_error: 0.2950\n",
            "Epoch 96/100\n",
            "6/6 [==============================] - 0s 6ms/step - loss: 2.6806 - mean_squared_logarithmic_error: 0.2949\n",
            "Epoch 97/100\n",
            "6/6 [==============================] - 0s 5ms/step - loss: 2.6773 - mean_squared_logarithmic_error: 0.2947\n",
            "Epoch 98/100\n",
            "6/6 [==============================] - 0s 5ms/step - loss: 2.6729 - mean_squared_logarithmic_error: 0.2940\n",
            "Epoch 99/100\n",
            "6/6 [==============================] - 0s 4ms/step - loss: 2.6691 - mean_squared_logarithmic_error: 0.2933\n",
            "Epoch 100/100\n",
            "6/6 [==============================] - 0s 4ms/step - loss: 2.6654 - mean_squared_logarithmic_error: 0.2928\n"
          ]
        }
      ]
    },
    {
      "cell_type": "code",
      "source": [
        "import matplotlib.pyplot as plt\n",
        "%matplotlib inline"
      ],
      "metadata": {
        "id": "_9XbzhLP0kVQ"
      },
      "id": "_9XbzhLP0kVQ",
      "execution_count": null,
      "outputs": []
    },
    {
      "cell_type": "code",
      "source": [
        "import sklearn.metrics\n",
        "evs_no=sklearn.metrics.explained_variance_score(y_test,ann.predict(X_test))\n",
        "me_no=sklearn.metrics.max_error(y_test,ann.predict(X_test))\n",
        "mae_no=sklearn.metrics.mean_absolute_error(y_test,ann.predict(X_test))\n",
        "mse_no=sklearn.metrics.mean_squared_error(y_test,ann.predict(X_test))\n",
        "msle_no=sklearn.metrics.mean_squared_log_error(y_test,ann.predict(X_test))\n",
        "Mae_no=sklearn.metrics.median_absolute_error(y_test,ann.predict(X_test))\n",
        "r2_no=sklearn.metrics.r2_score(y_test,ann.predict(X_test))\n",
        "mpd_no=sklearn.metrics.mean_poisson_deviance(y_test,ann.predict(X_test))\n",
        "mtd_no=sklearn.metrics.mean_tweedie_deviance(y_test,ann.predict(X_test))"
      ],
      "metadata": {
        "colab": {
          "base_uri": "https://localhost:8080/"
        },
        "id": "FmhdLZXh0tjn",
        "outputId": "782a1ff8-e6d4-4975-b598-bb409527c257"
      },
      "id": "FmhdLZXh0tjn",
      "execution_count": null,
      "outputs": [
        {
          "output_type": "stream",
          "name": "stdout",
          "text": [
            "2/2 [==============================] - 0s 7ms/step\n",
            "2/2 [==============================] - 0s 5ms/step\n",
            "2/2 [==============================] - 0s 5ms/step\n",
            "2/2 [==============================] - 0s 6ms/step\n",
            "2/2 [==============================] - 0s 4ms/step\n",
            "2/2 [==============================] - 0s 7ms/step\n",
            "2/2 [==============================] - 0s 8ms/step\n",
            "2/2 [==============================] - 0s 7ms/step\n",
            "2/2 [==============================] - 0s 6ms/step\n"
          ]
        }
      ]
    },
    {
      "cell_type": "code",
      "source": [
        "print('Explained Variance Score:',evs_no)\n",
        "print('Max Error               :',me_no)\n",
        "print('Mean Absolute Error     :',mae_no)\n",
        "print('Mean Square Error       :',mse_no)\n",
        "print('Mean Squared Log Error  :',msle_no)\n",
        "print('Median Absolute Error   :',Mae_no)\n",
        "print('R2 Score                :',r2_no)\n",
        "print('Mean Poisson Deviance   :',mpd_no)\n",
        "print('Mean Tweedie Deviance   :',mtd_no)"
      ],
      "metadata": {
        "colab": {
          "base_uri": "https://localhost:8080/"
        },
        "id": "vSxHU8N91HM8",
        "outputId": "52c41cd7-312f-47c7-9969-e7f5b0908c1b"
      },
      "id": "vSxHU8N91HM8",
      "execution_count": null,
      "outputs": [
        {
          "output_type": "stream",
          "name": "stdout",
          "text": [
            "Explained Variance Score: 0.4520462392554848\n",
            "Max Error               : 3.5131285190582275\n",
            "Mean Absolute Error     : 1.383223831653595\n",
            "Mean Square Error       : 3.0379450795002856\n",
            "Mean Squared Log Error  : 0.3221906268992859\n",
            "Median Absolute Error   : 1.19334077835083\n",
            "R2 Score                : 0.45019645837298616\n",
            "Mean Poisson Deviance   : 1.4009505265152336\n",
            "Mean Tweedie Deviance   : 3.0379450795002856\n"
          ]
        }
      ]
    },
    {
      "cell_type": "code",
      "source": [
        "# list all data in history\n",
        "print(model.history.keys())\n",
        "plt.plot(model.history['loss'])\n",
        "plt.grid()\n",
        "plt.title('Model loss')\n",
        "plt.ylabel('loss')\n",
        "plt.xlabel('epoch')\n",
        "plt.legend(['train', 'test'], loc='best')\n",
        "plt.show()\n",
        "# summarize history for loss\n",
        "plt.plot(model.history['mean_squared_logarithmic_error'])\n",
        "plt.grid()\n",
        "plt.title('model Mean Squared Logarithmic Error')\n",
        "plt.ylabel('mean_squared_logarithmic_error')\n",
        "plt.xlabel('epoch')\n",
        "plt.legend(['train', 'test'], loc='best')\n",
        "plt.show()"
      ],
      "metadata": {
        "colab": {
          "base_uri": "https://localhost:8080/",
          "height": 590
        },
        "id": "u2kvIES41SeM",
        "outputId": "54f24b22-9b1c-4d02-da47-a333b7962fd1"
      },
      "id": "u2kvIES41SeM",
      "execution_count": null,
      "outputs": [
        {
          "output_type": "stream",
          "name": "stdout",
          "text": [
            "dict_keys(['loss', 'mean_squared_logarithmic_error'])\n"
          ]
        },
        {
          "output_type": "display_data",
          "data": {
            "text/plain": [
              "<Figure size 432x288 with 1 Axes>"
            ],
            "image/png": "[encoded data removed]"
          },
          "metadata": {
            "needs_background": "light"
          }
        },
        {
          "output_type": "display_data",
          "data": {
            "text/plain": [
              "<Figure size 432x288 with 1 Axes>"
            ],
            "image/png": "[encoded data removed]"
          },
          "metadata": {
            "needs_background": "light"
          }
        }
      ]
    }
  ],
  "metadata": {
    "kernelspec": {
      "display_name": "Python 3 (ipykernel)",
      "language": "python",
      "name": "python3"
    },
    "language_info": {
      "codemirror_mode": {
        "name": "ipython",
        "version": 3
      },
      "file_extension": ".py",
      "mimetype": "text/x-python",
      "name": "python",
      "nbconvert_exporter": "python",
      "pygments_lexer": "ipython3",
      "version": "3.9.13"
    },
    "colab": {
      "provenance": []
    }
  },
  "nbformat": 4,
  "nbformat_minor": 5
}